{
  "nbformat": 4,
  "nbformat_minor": 0,
  "metadata": {
    "accelerator": "GPU",
    "colab": {
      "name": "AgriSAR_test_NNs.ipynb",
      "provenance": [],
      "collapsed_sections": [
        "AWragxlPSUAc",
        "omQfhNakfLef",
        "MlpV5G1Kaq6n",
        "mW7InU2jUhwS",
        "VpjiRxw6ELKG",
        "t-0Zr4T0PqDL",
        "vtGaNSMvZEyx"
      ],
      "toc_visible": true,
      "authorship_tag": "ABX9TyMFGFutTG+SqcD1VgTcIR6h",
      "include_colab_link": true
    },
    "kernelspec": {
      "display_name": "Python 3",
      "name": "python3"
    }
  },
  "cells": [
    {
      "cell_type": "markdown",
      "metadata": {
        "id": "view-in-github",
        "colab_type": "text"
      },
      "source": [
        "<a href=\"https://colab.research.google.com/github/crisjosil/MT-PolSAR-Change-Detection-For-Crop-Monitoring-And-Classification/blob/master/AgriSAR_test_NNs.ipynb\" target=\"_parent\"><img src=\"https://colab.research.google.com/assets/colab-badge.svg\" alt=\"Open In Colab\"/></a>"
      ]
    },
    {
      "cell_type": "markdown",
      "metadata": {
        "id": "1xcw_u1qZ34A"
      },
      "source": [
        "# Preliminars: Imports, load datasets"
      ]
    },
    {
      "cell_type": "code",
      "metadata": {
        "colab": {
          "base_uri": "https://localhost:8080/"
        },
        "id": "I7UyE47LZ2kK",
        "outputId": "ec966fe1-7900-4cb7-f764-0282550e4848"
      },
      "source": [
        "!pip install fiona\r\n",
        "from google.colab import drive\r\n",
        "drive.mount('/content/drive')"
      ],
      "execution_count": null,
      "outputs": [
        {
          "output_type": "stream",
          "text": [
            "Requirement already satisfied: fiona in /usr/local/lib/python3.6/dist-packages (1.8.18)\n",
            "Requirement already satisfied: click<8,>=4.0 in /usr/local/lib/python3.6/dist-packages (from fiona) (7.1.2)\n",
            "Requirement already satisfied: munch in /usr/local/lib/python3.6/dist-packages (from fiona) (2.5.0)\n",
            "Requirement already satisfied: certifi in /usr/local/lib/python3.6/dist-packages (from fiona) (2020.12.5)\n",
            "Requirement already satisfied: cligj>=0.5 in /usr/local/lib/python3.6/dist-packages (from fiona) (0.7.1)\n",
            "Requirement already satisfied: attrs>=17 in /usr/local/lib/python3.6/dist-packages (from fiona) (20.3.0)\n",
            "Requirement already satisfied: click-plugins>=1.0 in /usr/local/lib/python3.6/dist-packages (from fiona) (1.1.1)\n",
            "Requirement already satisfied: six>=1.7 in /usr/local/lib/python3.6/dist-packages (from fiona) (1.15.0)\n",
            "Drive already mounted at /content/drive; to attempt to forcibly remount, call drive.mount(\"/content/drive\", force_remount=True).\n"
          ],
          "name": "stdout"
        }
      ]
    },
    {
      "cell_type": "code",
      "metadata": {
        "colab": {
          "base_uri": "https://localhost:8080/",
          "height": 53
        },
        "id": "oP3bwzEkZzFW",
        "outputId": "075decb7-5d22-4ccc-eed1-74b30b307fee"
      },
      "source": [
        "# python\r\n",
        "import numpy as np\r\n",
        "import pandas as pd\r\n",
        "import time\r\n",
        "import matplotlib.pyplot as plt \r\n",
        "from collections import Counter\r\n",
        "import fiona\r\n",
        "import os\r\n",
        "from itertools import product\r\n",
        "from __future__ import print_function\r\n",
        "from functools import partial\r\n",
        "import pandas as pd\r\n",
        "import itertools\r\n",
        "from google.colab import files\r\n",
        "#sklearn\r\n",
        "from sklearn import preprocessing\r\n",
        "from sklearn.preprocessing import StandardScaler\r\n",
        "from sklearn.ensemble import RandomForestClassifier\r\n",
        "from sklearn.metrics import confusion_matrix\r\n",
        "from sklearn.metrics import accuracy_score\r\n",
        "from sklearn.metrics import f1_score\r\n",
        "from sklearn.metrics import balanced_accuracy_score\r\n",
        "from imblearn.metrics import geometric_mean_score\r\n",
        "from sklearn.metrics import plot_confusion_matrix\r\n",
        "from sklearn.model_selection import train_test_split\r\n",
        "from sklearn.model_selection import cross_val_score\r\n",
        "from sklearn.model_selection import KFold\r\n",
        "from sklearn.preprocessing import MinMaxScaler\r\n",
        "from sklearn.preprocessing import StandardScaler    \r\n",
        "from sklearn.preprocessing import Normalizer \r\n",
        "from sklearn.metrics import classification_report\r\n",
        "from sklearn.model_selection import GridSearchCV\r\n",
        "from sklearn.utils import class_weight\r\n",
        "# imblearn\r\n",
        "from imblearn.ensemble import BalancedRandomForestClassifier\r\n",
        "from imblearn.metrics import classification_report_imbalanced\r\n",
        "\r\n",
        "# Keras\r\n",
        "import keras\r\n",
        "from keras.models import Sequential\r\n",
        "from keras.layers import Dense,Activation,Dropout\r\n",
        "from keras.callbacks import EarlyStopping\r\n",
        "from keras.callbacks import ModelCheckpoint\r\n",
        "from keras.models import load_model\r\n",
        "from keras.wrappers.scikit_learn import KerasClassifier\r\n",
        "from keras.utils import np_utils\r\n",
        "import keras.backend as K\r\n",
        "# Tensor flow\r\n",
        "import tensorflow as tf\r\n",
        "import tensorflow_addons as tfa\r\n",
        "print(tf.__version__)\r\n",
        "tf.test.gpu_device_name()"
      ],
      "execution_count": null,
      "outputs": [
        {
          "output_type": "stream",
          "text": [
            "2.4.0\n"
          ],
          "name": "stdout"
        },
        {
          "output_type": "execute_result",
          "data": {
            "application/vnd.google.colaboratory.intrinsic+json": {
              "type": "string"
            },
            "text/plain": [
              "'/device:GPU:0'"
            ]
          },
          "metadata": {
            "tags": []
          },
          "execution_count": 25
        }
      ]
    },
    {
      "cell_type": "code",
      "metadata": {
        "id": "FN6wF7gcU5yH"
      },
      "source": [
        "version = 'V10/'"
      ],
      "execution_count": null,
      "outputs": []
    },
    {
      "cell_type": "markdown",
      "metadata": {
        "id": "AWragxlPSUAc"
      },
      "source": [
        "### Read change matrices"
      ]
    },
    {
      "cell_type": "code",
      "metadata": {
        "colab": {
          "base_uri": "https://localhost:8080/"
        },
        "id": "SQ1jRcouVGxE",
        "outputId": "e92f2f98-6141-47a4-c003-0e114ebdfbd5"
      },
      "source": [
        "# # Change matrices\r\n",
        "root=\"/content/drive/My Drive/Datasets/AgriSAR_Paper2/Final_datasets/CM/\"+version\r\n",
        "#var='_.npy'\r\n",
        "var='_with_diag.npy'#\r\n",
        "layer_name = \"y_train\"+var\r\n",
        "y_train_CM0=np.load(root + layer_name,  allow_pickle=True)\r\n",
        "layer_name = \"y_test\"+var\r\n",
        "y_test_CM0=np.load(root + layer_name,  allow_pickle=True)\r\n",
        "\r\n",
        "print(\"Reading CM datasets ...\")\r\n",
        "layer_name = \"X_train\"+var\r\n",
        "X_train_CM0=np.load(root + layer_name,  allow_pickle=True)\r\n",
        "X_train_CM0 = np.nan_to_num(X_train_CM0)\r\n",
        "print(\"Reading testing data ...\")\r\n",
        "layer_name = \"X_test\"+var\r\n",
        "X_test_CM0=np.load(root + layer_name,  allow_pickle=True)\r\n",
        "X_test_CM0 = np.nan_to_num(X_test_CM0)\r\n",
        "print(\"Reading validation data ...\")\r\n",
        "layer_name = \"X_val\"+var\r\n",
        "X_train_CM0_lev2=np.load(root + layer_name,  allow_pickle=True)\r\n",
        "X_train_CM0_lev2 = np.nan_to_num(X_train_CM0_lev2)\r\n",
        "print(\"Done\")"
      ],
      "execution_count": null,
      "outputs": [
        {
          "output_type": "stream",
          "text": [
            "Reading CM datasets ...\n",
            "Reading testing data ...\n",
            "Reading validation data ...\n",
            "Done\n"
          ],
          "name": "stdout"
        }
      ]
    },
    {
      "cell_type": "code",
      "metadata": {
        "id": "iEwaPvU1tf3G",
        "colab": {
          "base_uri": "https://localhost:8080/"
        },
        "outputId": "f0e5ec44-e7ef-40a6-bf2a-8483a0e2e31a"
      },
      "source": [
        "N_images=7\r\n",
        "N_features=16\r\n",
        "X_train_CM0_2d=X_train_CM0.reshape(X_train_CM0.shape[0],N_images,N_images,3)\r\n",
        "X_test_CM0_2d=X_test_CM0.reshape(X_test_CM0.shape[0],N_images,N_images,3)\r\n",
        "sc = MinMaxScaler()\r\n",
        "X_train_CM = sc.fit_transform(X_train_CM0)\r\n",
        "X_test_CM = sc.transform(X_test_CM0)\r\n",
        "\r\n",
        "print(\"Reshaping as 2d images ...\")\r\n",
        "X_train_CM_2d=X_train_CM.reshape(X_train_CM.shape[0],N_images,N_images,3)\r\n",
        "X_test_CM_2d=X_test_CM.reshape(X_test_CM.shape[0],N_images,N_images,3)\r\n",
        "\r\n",
        "X_for_training=X_train_CM_2d\r\n",
        "X_for_testing= X_test_CM_2d"
      ],
      "execution_count": null,
      "outputs": [
        {
          "output_type": "stream",
          "text": [
            "Reshaping as 2d images ...\n"
          ],
          "name": "stdout"
        }
      ]
    },
    {
      "cell_type": "markdown",
      "metadata": {
        "id": "omQfhNakfLef"
      },
      "source": [
        "# Custom Loss function for imbalanced classification\r\n",
        "\r\n",
        "\r\n",
        "*   Uses weighted categorical cross entropy\r\n",
        "\r\n",
        "\r\n"
      ]
    },
    {
      "cell_type": "markdown",
      "metadata": {
        "id": "MlpV5G1Kaq6n"
      },
      "source": [
        "### Class and sample_weights\r\n",
        "\r\n",
        "Note that here we give more weights to the classes and samples with lower number of samples represented in the training data"
      ]
    },
    {
      "cell_type": "code",
      "metadata": {
        "id": "vKlCSTFImTJO"
      },
      "source": [
        "y_tr = y_train_CM0 # Enable for CM\r\n",
        "#y_tr = y_train0 # enable for PolSAR"
      ],
      "execution_count": null,
      "outputs": []
    },
    {
      "cell_type": "code",
      "metadata": {
        "colab": {
          "base_uri": "https://localhost:8080/"
        },
        "id": "9Y1HHfvuamgh",
        "outputId": "d2b4bcd3-38bb-4a6b-c289-0ca45a33780e"
      },
      "source": [
        "# Determine weight of each class according to number of samples\r\n",
        "# For train\r\n",
        "class_weights = class_weight.compute_class_weight('balanced',\r\n",
        "                                                 np.unique(y_tr),\r\n",
        "                                                 y_tr)\r\n",
        "class_weight_dict = dict(enumerate(class_weights/class_weights.max())) # normalize the weights to one\r\n",
        "\r\n",
        "sample_weight=np.zeros(y_tr.shape)\r\n",
        "for r in np.unique(y_tr):\r\n",
        "  sample_weight=np.where(y_tr==r,class_weight_dict[r],sample_weight)\r\n",
        "\r\n",
        "print(np.unique(sample_weight))\r\n",
        "print(class_weight_dict)"
      ],
      "execution_count": null,
      "outputs": [
        {
          "output_type": "stream",
          "text": [
            "[0.08512003 0.10249292 0.1854931  0.24772562 0.40229221 0.49246725\n",
            " 0.50581375 0.55434255 0.99131552 1.        ]\n",
            "{0: 0.5058137473855862, 1: 0.9913155243686387, 2: 0.1024929156086471, 3: 0.4924672545602016, 4: 0.18549309690335666, 5: 0.402292207059885, 6: 0.5543425474465317, 7: 0.24772561547275948, 8: 1.0, 9: 0.0851200276803398}\n"
          ],
          "name": "stdout"
        }
      ]
    },
    {
      "cell_type": "code",
      "metadata": {
        "id": "DDPEOCdCfNJF"
      },
      "source": [
        "# Custom loss function with costs\r\n",
        "def w_categorical_crossentropy(y_true, y_pred, weights):\r\n",
        "    nb_cl = len(weights)\r\n",
        "    final_mask = K.zeros_like(y_pred[:, 0])\r\n",
        "    y_pred_max = K.max(y_pred, axis=1)\r\n",
        "    y_pred_max = K.expand_dims(y_pred_max, 1)\r\n",
        "    y_pred_max_mat = K.equal(y_pred, y_pred_max)\r\n",
        "    for c_p, c_t in product(range(nb_cl), range(nb_cl)):\r\n",
        "\r\n",
        "        final_mask += (K.cast(weights[c_t, c_p],K.floatx()) * K.cast(y_pred_max_mat[:, c_p] ,K.floatx())* K.cast(y_true[:, c_t],K.floatx()))\r\n",
        "    return K.categorical_crossentropy(y_pred, y_true) * final_mask"
      ],
      "execution_count": null,
      "outputs": []
    },
    {
      "cell_type": "code",
      "metadata": {
        "id": "IfFmoPm2fo7W"
      },
      "source": [
        "# Array with weights\r\n",
        "w_array = np.ones((10,10))\r\n",
        "for i in range(10):\r\n",
        "  w_array[:,i]=class_weight_dict[i]\r\n",
        "for i in range(10):\r\n",
        "  w_array[i,i]=1\r\n",
        "#w_array"
      ],
      "execution_count": null,
      "outputs": []
    },
    {
      "cell_type": "code",
      "metadata": {
        "id": "Rg-sqGgOfrf-"
      },
      "source": [
        "ncce = partial(w_categorical_crossentropy, weights=w_array)\r\n",
        "ncce.__name__ ='w_categorical_crossentropy'"
      ],
      "execution_count": null,
      "outputs": []
    },
    {
      "cell_type": "markdown",
      "metadata": {
        "id": "mW7InU2jUhwS"
      },
      "source": [
        "# Performance with 10 classes"
      ]
    },
    {
      "cell_type": "code",
      "metadata": {
        "id": "ckzEmanmJLi6"
      },
      "source": [
        "def eval_model(y_test0,y_pred,classes,model_name):\r\n",
        "  df_metrics_w=pd.DataFrame(index=['f1_macro','G_mean_macro','Balanced accuracy','Imbalanced accuracy'])\r\n",
        "  f1_macro = f1_score(y_test0, y_pred, average='macro')\r\n",
        "  G_mean_macro = geometric_mean_score(y_test0, y_pred, average='macro', sample_weight=None)\r\n",
        "  Bal_acc = balanced_accuracy_score(y_test0, y_pred, sample_weight=None, adjusted=False)\r\n",
        "  Imbal_acc = accuracy_score(y_test0, y_pred)\r\n",
        "\r\n",
        "  list_of_metrics=[f1_macro,G_mean_macro,Bal_acc,Imbal_acc]\r\n",
        "  df_metrics_w[\"NN_All_small\"] = list_of_metrics   \r\n",
        "  print(df_metrics_w)\r\n",
        "  print(\" \")\r\n",
        "  report = classification_report(y_test0,y_pred,target_names=classes,output_dict=True)\r\n",
        "  df_report = pd.DataFrame(report).transpose()\r\n",
        "  print(df_report)\r\n",
        "  print(\" \")\r\n",
        "  df_metrics_w.to_csv(model_name+'_metrics.csv')\r\n",
        "  files.download(model_name+'_metrics.csv')\r\n",
        "  df_report.to_csv(model_name+'_report.csv')\r\n",
        "  files.download(model_name+'_report.csv')\r\n",
        "  #files.download(model_name+'.h5') #\"birds.h5\"\r\n",
        "\r\n",
        "def plot_my_confusion_matrix(cm, classes,\r\n",
        "                        title='Confusion matrix',\r\n",
        "                        cmap=plt.cm.Blues,\r\n",
        "                        save=0,model_name=\"\"):\r\n",
        "    \"\"\"\r\n",
        "    This function prints and plots the confusion matrix.\r\n",
        "    \"\"\"\r\n",
        "    fig,ax=plt.subplots(1,figsize=(12,8))\r\n",
        "    plt.imshow(cm, interpolation='nearest', cmap=cmap)\r\n",
        "    plt.title(title)\r\n",
        "    plt.colorbar()\r\n",
        "    tick_marks = np.arange(len(classes))\r\n",
        "    plt.xticks(tick_marks, classes, rotation=45,fontsize=14)\r\n",
        "    plt.yticks(tick_marks, classes,fontsize=14)\r\n",
        "\r\n",
        "    thresh = cm.max() / 2.\r\n",
        "    for i, j in itertools.product(range(cm.shape[0]), range(cm.shape[1])):\r\n",
        "        plt.text(j, i, cm[i, j],\r\n",
        "            horizontalalignment=\"center\",\r\n",
        "            color=\"white\" if cm[i, j] > thresh else \"black\",fontsize=14)\r\n",
        "\r\n",
        "    plt.tight_layout()\r\n",
        "    plt.ylabel('True label',fontsize=18)\r\n",
        "    plt.xlabel('Predicted label',fontsize=18)\r\n",
        "    if save == 1:\r\n",
        "       print(\"saving \"+model_name+\" ...\" )\r\n",
        "       outall1= model_name +'.png'\r\n",
        "       plt.savefig(outall1, bbox_inches='tight')  \r\n",
        "       files.download(outall1)"
      ],
      "execution_count": null,
      "outputs": []
    },
    {
      "cell_type": "code",
      "metadata": {
        "colab": {
          "base_uri": "https://localhost:8080/"
        },
        "id": "6vmsaojEJMh3",
        "outputId": "348dde54-13a0-4f74-e6c1-b828b2797ebb"
      },
      "source": [
        "\r\n",
        "#models=[\"CM_diag_V7_Nadam.h5\",\"PolSAR_V7_Nadam.h5\"]\r\n",
        "model_name = \"CM_diag_V10_Nadam.h5\"\r\n",
        "save_model_name = \"/content/drive/My Drive/Datasets/AgriSAR_Paper2/Models/V6_to_V10/\"+model_name\r\n",
        "model_CS = load_model(save_model_name, custom_objects={'w_categorical_crossentropy': ncce})\r\n",
        "# Report + confusion matrix\r\n",
        "classes = ['Barley', 'Canaryseed', 'Canola', 'Durum Wheat', 'Field Pea', 'Flax', 'Lentil', 'Mixed Pasture', 'Oat', 'Spring Wheat']\r\n",
        "\r\n",
        "y_pred=np.argmax(model_CS.predict(X_for_testing), axis=-1)\r\n",
        "eval_model(y_test_CM0,y_pred,classes,model_name=model_name) \r\n",
        "cm = confusion_matrix(y_test_CM0, y_pred,normalize='true')\r\n",
        "cm = np.round(cm, 2)\r\n",
        "plot_my_confusion_matrix(cm, classes, cmap=plt.cm.Blues,save=1,model_name=model_name)"
      ],
      "execution_count": null,
      "outputs": [
        {
          "output_type": "stream",
          "text": [
            "                     NN_All_small\n",
            "f1_macro                 0.682384\n",
            "G_mean_macro             0.829915\n",
            "Balanced accuracy        0.704438\n",
            "Imbalanced accuracy      0.804510\n",
            " \n",
            "               precision    recall  f1-score       support\n",
            "Barley          0.316938  0.361566  0.337785   17875.00000\n",
            "Canaryseed      0.830767  0.718871  0.770779    8256.00000\n",
            "Canola          0.989536  0.991776  0.990655   74662.00000\n",
            "Durum Wheat     0.199542  0.144780  0.167806   12633.00000\n",
            "Field Pea       0.971102  0.991378  0.981135   44303.00000\n",
            "Flax            0.624767  0.835273  0.714845   20452.00000\n",
            "Lentil          0.608274  0.935704  0.737270   15211.00000\n",
            "Mixed Pasture   0.917699  0.920586  0.919140   24794.00000\n",
            "Oat             0.426234  0.415149  0.420618    8344.00000\n",
            "Spring Wheat    0.847125  0.729293  0.783805  100448.00000\n",
            "accuracy        0.804510  0.804510  0.804510       0.80451\n",
            "macro avg       0.673198  0.704438  0.682384  326978.00000\n",
            "weighted avg    0.811616  0.804510  0.803779  326978.00000\n",
            " \n"
          ],
          "name": "stdout"
        },
        {
          "output_type": "display_data",
          "data": {
            "application/javascript": [
              "\n",
              "    async function download(id, filename, size) {\n",
              "      if (!google.colab.kernel.accessAllowed) {\n",
              "        return;\n",
              "      }\n",
              "      const div = document.createElement('div');\n",
              "      const label = document.createElement('label');\n",
              "      label.textContent = `Downloading \"${filename}\": `;\n",
              "      div.appendChild(label);\n",
              "      const progress = document.createElement('progress');\n",
              "      progress.max = size;\n",
              "      div.appendChild(progress);\n",
              "      document.body.appendChild(div);\n",
              "\n",
              "      const buffers = [];\n",
              "      let downloaded = 0;\n",
              "\n",
              "      const channel = await google.colab.kernel.comms.open(id);\n",
              "      // Send a message to notify the kernel that we're ready.\n",
              "      channel.send({})\n",
              "\n",
              "      for await (const message of channel.messages) {\n",
              "        // Send a message to notify the kernel that we're ready.\n",
              "        channel.send({})\n",
              "        if (message.buffers) {\n",
              "          for (const buffer of message.buffers) {\n",
              "            buffers.push(buffer);\n",
              "            downloaded += buffer.byteLength;\n",
              "            progress.value = downloaded;\n",
              "          }\n",
              "        }\n",
              "      }\n",
              "      const blob = new Blob(buffers, {type: 'application/binary'});\n",
              "      const a = document.createElement('a');\n",
              "      a.href = window.URL.createObjectURL(blob);\n",
              "      a.download = filename;\n",
              "      div.appendChild(a);\n",
              "      a.click();\n",
              "      div.remove();\n",
              "    }\n",
              "  "
            ],
            "text/plain": [
              "<IPython.core.display.Javascript object>"
            ]
          },
          "metadata": {
            "tags": []
          }
        },
        {
          "output_type": "display_data",
          "data": {
            "application/javascript": [
              "download(\"download_2348d947-e3e2-4690-b21b-e6e0c15a3b13\", \"CM_diag_V10_Nadam.h5_metrics.csv\", 150)"
            ],
            "text/plain": [
              "<IPython.core.display.Javascript object>"
            ]
          },
          "metadata": {
            "tags": []
          }
        },
        {
          "output_type": "display_data",
          "data": {
            "application/javascript": [
              "\n",
              "    async function download(id, filename, size) {\n",
              "      if (!google.colab.kernel.accessAllowed) {\n",
              "        return;\n",
              "      }\n",
              "      const div = document.createElement('div');\n",
              "      const label = document.createElement('label');\n",
              "      label.textContent = `Downloading \"${filename}\": `;\n",
              "      div.appendChild(label);\n",
              "      const progress = document.createElement('progress');\n",
              "      progress.max = size;\n",
              "      div.appendChild(progress);\n",
              "      document.body.appendChild(div);\n",
              "\n",
              "      const buffers = [];\n",
              "      let downloaded = 0;\n",
              "\n",
              "      const channel = await google.colab.kernel.comms.open(id);\n",
              "      // Send a message to notify the kernel that we're ready.\n",
              "      channel.send({})\n",
              "\n",
              "      for await (const message of channel.messages) {\n",
              "        // Send a message to notify the kernel that we're ready.\n",
              "        channel.send({})\n",
              "        if (message.buffers) {\n",
              "          for (const buffer of message.buffers) {\n",
              "            buffers.push(buffer);\n",
              "            downloaded += buffer.byteLength;\n",
              "            progress.value = downloaded;\n",
              "          }\n",
              "        }\n",
              "      }\n",
              "      const blob = new Blob(buffers, {type: 'application/binary'});\n",
              "      const a = document.createElement('a');\n",
              "      a.href = window.URL.createObjectURL(blob);\n",
              "      a.download = filename;\n",
              "      div.appendChild(a);\n",
              "      a.click();\n",
              "      div.remove();\n",
              "    }\n",
              "  "
            ],
            "text/plain": [
              "<IPython.core.display.Javascript object>"
            ]
          },
          "metadata": {
            "tags": []
          }
        },
        {
          "output_type": "display_data",
          "data": {
            "application/javascript": [
              "download(\"download_2a90280b-cc57-4944-bbae-5ea937bacd71\", \"CM_diag_V10_Nadam.h5_report.csv\", 1014)"
            ],
            "text/plain": [
              "<IPython.core.display.Javascript object>"
            ]
          },
          "metadata": {
            "tags": []
          }
        },
        {
          "output_type": "stream",
          "text": [
            "saving CM_diag_V10_Nadam.h5 ...\n"
          ],
          "name": "stdout"
        },
        {
          "output_type": "display_data",
          "data": {
            "application/javascript": [
              "\n",
              "    async function download(id, filename, size) {\n",
              "      if (!google.colab.kernel.accessAllowed) {\n",
              "        return;\n",
              "      }\n",
              "      const div = document.createElement('div');\n",
              "      const label = document.createElement('label');\n",
              "      label.textContent = `Downloading \"${filename}\": `;\n",
              "      div.appendChild(label);\n",
              "      const progress = document.createElement('progress');\n",
              "      progress.max = size;\n",
              "      div.appendChild(progress);\n",
              "      document.body.appendChild(div);\n",
              "\n",
              "      const buffers = [];\n",
              "      let downloaded = 0;\n",
              "\n",
              "      const channel = await google.colab.kernel.comms.open(id);\n",
              "      // Send a message to notify the kernel that we're ready.\n",
              "      channel.send({})\n",
              "\n",
              "      for await (const message of channel.messages) {\n",
              "        // Send a message to notify the kernel that we're ready.\n",
              "        channel.send({})\n",
              "        if (message.buffers) {\n",
              "          for (const buffer of message.buffers) {\n",
              "            buffers.push(buffer);\n",
              "            downloaded += buffer.byteLength;\n",
              "            progress.value = downloaded;\n",
              "          }\n",
              "        }\n",
              "      }\n",
              "      const blob = new Blob(buffers, {type: 'application/binary'});\n",
              "      const a = document.createElement('a');\n",
              "      a.href = window.URL.createObjectURL(blob);\n",
              "      a.download = filename;\n",
              "      div.appendChild(a);\n",
              "      a.click();\n",
              "      div.remove();\n",
              "    }\n",
              "  "
            ],
            "text/plain": [
              "<IPython.core.display.Javascript object>"
            ]
          },
          "metadata": {
            "tags": []
          }
        },
        {
          "output_type": "display_data",
          "data": {
            "application/javascript": [
              "download(\"download_a045518a-5c2c-4c9d-b55f-7b261f729d41\", \"CM_diag_V10_Nadam.h5.png\", 74569)"
            ],
            "text/plain": [
              "<IPython.core.display.Javascript object>"
            ]
          },
          "metadata": {
            "tags": []
          }
        },
        {
          "output_type": "display_data",
          "data": {
            "image/png": "[encoded data removed]",
            "text/plain": [
              "<Figure size 864x576 with 2 Axes>"
            ]
          },
          "metadata": {
            "tags": [],
            "needs_background": "light"
          }
        }
      ]
    },
    {
      "cell_type": "markdown",
      "metadata": {
        "id": "VpjiRxw6ELKG"
      },
      "source": [
        "# Performance with reduced classes"
      ]
    },
    {
      "cell_type": "code",
      "metadata": {
        "id": "rk-tPHj_-HvC"
      },
      "source": [
        "y_train0 = y_train_CM0 # enable for CM\r\n",
        "y_test0 = y_test_CM0"
      ],
      "execution_count": null,
      "outputs": []
    },
    {
      "cell_type": "code",
      "metadata": {
        "id": "67m0J9ca5dgR"
      },
      "source": [
        "y_train_red=y_train0.copy() \r\n",
        "y_train_red=np.where(y_train0==0,0,y_train_red) # Barley\r\n",
        "y_train_red=np.where(y_train0==1,0,y_train_red) # Canaray seed\r\n",
        "y_train_red=np.where(y_train0==2,1,y_train_red) # Canola\r\n",
        "y_train_red=np.where(y_train0==3,0,y_train_red) # Durum wheat\r\n",
        "y_train_red=np.where(y_train0==4,2,y_train_red) # field Peas \r\n",
        "y_train_red=np.where(y_train0==5,3,y_train_red) # Flax\r\n",
        "y_train_red=np.where(y_train0==6,4,y_train_red) # Lentil\r\n",
        "y_train_red=np.where(y_train0==7,5,y_train_red) # Mixed Pasture\r\n",
        "y_train_red=np.where(y_train0==8,0,y_train_red) # Oat\r\n",
        "y_train_red=np.where(y_train0==9,0,y_train_red) # spring wheat\r\n",
        "\r\n",
        "y_test_red=y_test0.copy() \r\n",
        "y_test_red=np.where(y_test0==0,0,y_test_red) # Barley\r\n",
        "y_test_red=np.where(y_test0==1,0,y_test_red) # Canaray seed\r\n",
        "y_test_red=np.where(y_test0==2,1,y_test_red) # Canola\r\n",
        "y_test_red=np.where(y_test0==3,0,y_test_red) # Durum wheat\r\n",
        "y_test_red=np.where(y_test0==4,2,y_test_red) # field Peas \r\n",
        "y_test_red=np.where(y_test0==5,3,y_test_red) # Flax\r\n",
        "y_test_red=np.where(y_test0==6,4,y_test_red) # Lentil\r\n",
        "y_test_red=np.where(y_test0==7,5,y_test_red) # Mixed Pasture\r\n",
        "y_test_red=np.where(y_test0==8,0,y_test_red) # Oat\r\n",
        "y_test_red=np.where(y_test0==9,0,y_test_red) # spring wheat"
      ],
      "execution_count": null,
      "outputs": []
    },
    {
      "cell_type": "code",
      "metadata": {
        "colab": {
          "base_uri": "https://localhost:8080/"
        },
        "id": "Lmmnnf3-GnED",
        "outputId": "89fda4f7-511e-4e6c-cc58-7bd823535162"
      },
      "source": [
        "class_weights_red = class_weight.compute_class_weight('balanced',\r\n",
        "                                                 np.unique(y_train_red),\r\n",
        "                                                 y_train_red)\r\n",
        "class_weight_dict_red = dict(enumerate(class_weights_red/class_weights_red.max())) \r\n",
        "# for test\r\n",
        "# sample_weight_test_red=np.zeros(y_test_red.shape)\r\n",
        "# for r in np.unique(y_test_red):\r\n",
        "#   sample_weight_test=np.where(y_test_red==r,class_weight_dict_red[r],sample_weight_test_red)\r\n",
        "\r\n",
        "# Create an array as big as the training samples.\r\n",
        "# To each sample assign a weight depending on its class weight\r\n",
        "sample_weight_red=np.zeros(y_train_red.shape) \r\n",
        "# fill the array with a sample weight equal to the class weight\r\n",
        "for r in np.unique(y_train_red):\r\n",
        "  sample_weight_red=np.where(y_train_red==r,class_weight_dict_red[r],sample_weight_red) \r\n",
        "print(np.unique(sample_weight_red))\r\n",
        "print(sample_weight_red.shape)\r\n",
        "\r\n",
        "w_array_red = np.ones((6,6))\r\n",
        "for i in range(6):\r\n",
        "  w_array_red[:,i]=class_weight_dict_red[i]\r\n",
        "for i in range(6):\r\n",
        "  w_array_red[i,i]=1\r\n",
        "#w_array_red\r\n",
        "\r\n",
        "ncce_red = partial(w_categorical_crossentropy, weights=w_array_red)\r\n",
        "ncce_red.__name__ ='w_categorical_crossentropy_red'"
      ],
      "execution_count": null,
      "outputs": [
        {
          "output_type": "stream",
          "text": [
            "[0.10154751 0.18489094 0.33461818 0.44688184 0.7257105  1.        ]\n",
            "(1176829,)\n"
          ],
          "name": "stdout"
        }
      ]
    },
    {
      "cell_type": "code",
      "metadata": {
        "colab": {
          "base_uri": "https://localhost:8080/",
          "height": 927
        },
        "id": "hR0CqaUZzEv_",
        "outputId": "3d940468-a151-47c0-fad6-3e57f922498b"
      },
      "source": [
        "model_name_red = \"CM_diag_red_V10_Nadam.h5\"\r\n",
        "save_model_name = \"/content/drive/My Drive/Datasets/AgriSAR_Paper2/Models/V6_to_V10/\"+model_name_red\r\n",
        "model_CS_red = load_model(save_model_name, custom_objects={'w_categorical_crossentropy_red': ncce_red})\r\n",
        "classes_red = ['Cereals', 'Canola', 'Field Pea', 'Flax', 'Lentil', 'Mixed Pasture']\r\n",
        "y_pred_red=np.argmax(model_CS_red.predict(X_for_testing), axis=-1)\r\n",
        "eval_model(y_test_red,y_pred_red,classes_red,model_name=model_name_red) \r\n",
        "cm = confusion_matrix(y_test_red,y_pred_red,normalize='true')\r\n",
        "cm = np.round(cm, 2)\r\n",
        "plot_my_confusion_matrix(cm, classes_red, cmap=plt.cm.Blues,save=1,model_name=model_name_red)"
      ],
      "execution_count": null,
      "outputs": [
        {
          "output_type": "stream",
          "text": [
            "                     NN_All_small\n",
            "f1_macro                 0.839412\n",
            "G_mean_macro             0.944128\n",
            "Balanced accuracy        0.908159\n",
            "Imbalanced accuracy      0.910114\n",
            " \n",
            "               precision    recall  f1-score        support\n",
            "Cereals         0.953604  0.865184  0.907245  142394.000000\n",
            "Canola          0.979460  0.995104  0.987220   82520.000000\n",
            "Field Pea       0.981483  0.930313  0.955214   44327.000000\n",
            "Flax            0.712349  0.827259  0.765516   18988.000000\n",
            "Lentil          0.434614  0.921123  0.590576    5946.000000\n",
            "Mixed Pasture   0.764139  0.909971  0.830703   23459.000000\n",
            "accuracy        0.910114  0.910114  0.910114       0.910114\n",
            "macro avg       0.804275  0.908159  0.839412  317634.000000\n",
            "weighted avg    0.926081  0.910114  0.914663  317634.000000\n",
            " \n"
          ],
          "name": "stdout"
        },
        {
          "output_type": "display_data",
          "data": {
            "application/javascript": [
              "\n",
              "    async function download(id, filename, size) {\n",
              "      if (!google.colab.kernel.accessAllowed) {\n",
              "        return;\n",
              "      }\n",
              "      const div = document.createElement('div');\n",
              "      const label = document.createElement('label');\n",
              "      label.textContent = `Downloading \"${filename}\": `;\n",
              "      div.appendChild(label);\n",
              "      const progress = document.createElement('progress');\n",
              "      progress.max = size;\n",
              "      div.appendChild(progress);\n",
              "      document.body.appendChild(div);\n",
              "\n",
              "      const buffers = [];\n",
              "      let downloaded = 0;\n",
              "\n",
              "      const channel = await google.colab.kernel.comms.open(id);\n",
              "      // Send a message to notify the kernel that we're ready.\n",
              "      channel.send({})\n",
              "\n",
              "      for await (const message of channel.messages) {\n",
              "        // Send a message to notify the kernel that we're ready.\n",
              "        channel.send({})\n",
              "        if (message.buffers) {\n",
              "          for (const buffer of message.buffers) {\n",
              "            buffers.push(buffer);\n",
              "            downloaded += buffer.byteLength;\n",
              "            progress.value = downloaded;\n",
              "          }\n",
              "        }\n",
              "      }\n",
              "      const blob = new Blob(buffers, {type: 'application/binary'});\n",
              "      const a = document.createElement('a');\n",
              "      a.href = window.URL.createObjectURL(blob);\n",
              "      a.download = filename;\n",
              "      div.appendChild(a);\n",
              "      a.click();\n",
              "      div.remove();\n",
              "    }\n",
              "  "
            ],
            "text/plain": [
              "<IPython.core.display.Javascript object>"
            ]
          },
          "metadata": {
            "tags": []
          }
        },
        {
          "output_type": "display_data",
          "data": {
            "application/javascript": [
              "download(\"download_2ba204cc-e61b-4f7e-9d54-0d31b0c2269c\", \"CM_diag_red_V7_Nadam.h5_metrics.csv\", 150)"
            ],
            "text/plain": [
              "<IPython.core.display.Javascript object>"
            ]
          },
          "metadata": {
            "tags": []
          }
        },
        {
          "output_type": "display_data",
          "data": {
            "application/javascript": [
              "\n",
              "    async function download(id, filename, size) {\n",
              "      if (!google.colab.kernel.accessAllowed) {\n",
              "        return;\n",
              "      }\n",
              "      const div = document.createElement('div');\n",
              "      const label = document.createElement('label');\n",
              "      label.textContent = `Downloading \"${filename}\": `;\n",
              "      div.appendChild(label);\n",
              "      const progress = document.createElement('progress');\n",
              "      progress.max = size;\n",
              "      div.appendChild(progress);\n",
              "      document.body.appendChild(div);\n",
              "\n",
              "      const buffers = [];\n",
              "      let downloaded = 0;\n",
              "\n",
              "      const channel = await google.colab.kernel.comms.open(id);\n",
              "      // Send a message to notify the kernel that we're ready.\n",
              "      channel.send({})\n",
              "\n",
              "      for await (const message of channel.messages) {\n",
              "        // Send a message to notify the kernel that we're ready.\n",
              "        channel.send({})\n",
              "        if (message.buffers) {\n",
              "          for (const buffer of message.buffers) {\n",
              "            buffers.push(buffer);\n",
              "            downloaded += buffer.byteLength;\n",
              "            progress.value = downloaded;\n",
              "          }\n",
              "        }\n",
              "      }\n",
              "      const blob = new Blob(buffers, {type: 'application/binary'});\n",
              "      const a = document.createElement('a');\n",
              "      a.href = window.URL.createObjectURL(blob);\n",
              "      a.download = filename;\n",
              "      div.appendChild(a);\n",
              "      a.click();\n",
              "      div.remove();\n",
              "    }\n",
              "  "
            ],
            "text/plain": [
              "<IPython.core.display.Javascript object>"
            ]
          },
          "metadata": {
            "tags": []
          }
        },
        {
          "output_type": "display_data",
          "data": {
            "application/javascript": [
              "download(\"download_58859bdc-780d-404c-bff6-783c26b56a04\", \"CM_diag_red_V7_Nadam.h5_report.csv\", 716)"
            ],
            "text/plain": [
              "<IPython.core.display.Javascript object>"
            ]
          },
          "metadata": {
            "tags": []
          }
        },
        {
          "output_type": "stream",
          "text": [
            "saving CM_diag_red_V7_Nadam.h5 ...\n"
          ],
          "name": "stdout"
        },
        {
          "output_type": "display_data",
          "data": {
            "application/javascript": [
              "\n",
              "    async function download(id, filename, size) {\n",
              "      if (!google.colab.kernel.accessAllowed) {\n",
              "        return;\n",
              "      }\n",
              "      const div = document.createElement('div');\n",
              "      const label = document.createElement('label');\n",
              "      label.textContent = `Downloading \"${filename}\": `;\n",
              "      div.appendChild(label);\n",
              "      const progress = document.createElement('progress');\n",
              "      progress.max = size;\n",
              "      div.appendChild(progress);\n",
              "      document.body.appendChild(div);\n",
              "\n",
              "      const buffers = [];\n",
              "      let downloaded = 0;\n",
              "\n",
              "      const channel = await google.colab.kernel.comms.open(id);\n",
              "      // Send a message to notify the kernel that we're ready.\n",
              "      channel.send({})\n",
              "\n",
              "      for await (const message of channel.messages) {\n",
              "        // Send a message to notify the kernel that we're ready.\n",
              "        channel.send({})\n",
              "        if (message.buffers) {\n",
              "          for (const buffer of message.buffers) {\n",
              "            buffers.push(buffer);\n",
              "            downloaded += buffer.byteLength;\n",
              "            progress.value = downloaded;\n",
              "          }\n",
              "        }\n",
              "      }\n",
              "      const blob = new Blob(buffers, {type: 'application/binary'});\n",
              "      const a = document.createElement('a');\n",
              "      a.href = window.URL.createObjectURL(blob);\n",
              "      a.download = filename;\n",
              "      div.appendChild(a);\n",
              "      a.click();\n",
              "      div.remove();\n",
              "    }\n",
              "  "
            ],
            "text/plain": [
              "<IPython.core.display.Javascript object>"
            ]
          },
          "metadata": {
            "tags": []
          }
        },
        {
          "output_type": "display_data",
          "data": {
            "application/javascript": [
              "download(\"download_0727c96e-77b4-4267-b815-101bcc5ef6db\", \"CM_diag_red_V7_Nadam.h5.png\", 43303)"
            ],
            "text/plain": [
              "<IPython.core.display.Javascript object>"
            ]
          },
          "metadata": {
            "tags": []
          }
        },
        {
          "output_type": "display_data",
          "data": {
            "image/png": "[encoded data removed]",
            "text/plain": [
              "<Figure size 864x576 with 2 Axes>"
            ]
          },
          "metadata": {
            "tags": [],
            "needs_background": "light"
          }
        }
      ]
    },
    {
      "cell_type": "markdown",
      "metadata": {
        "id": "t-0Zr4T0PqDL"
      },
      "source": [
        "# PolSAR 10 classes"
      ]
    },
    {
      "cell_type": "code",
      "metadata": {
        "colab": {
          "base_uri": "https://localhost:8080/"
        },
        "id": "JP3bhHGJPrKX",
        "outputId": "ed2b1df5-5f60-4c7b-c01d-c48acfe5b59f"
      },
      "source": [
        "### Read PolSAR datasets\r\n",
        "print(\"Reading PolSAR features test datasets ...\")\r\n",
        "root=\"/content/drive/My Drive/Datasets/AgriSAR_Paper2/Final_datasets/PolSAR_F/V10/\"\r\n",
        "layer_name = \"y_train.npy\"\r\n",
        "y_train0=np.load(root + layer_name,  allow_pickle=True)\r\n",
        "layer_name = \"y_test.npy\"\r\n",
        "y_test0=np.load(root + layer_name,  allow_pickle=True)\r\n",
        "print(Counter(y_train0))\r\n",
        "\r\n",
        "print(\"Reading training labels ...\")\r\n",
        "layer_name = \"X_train.npy\"\r\n",
        "X_train0=np.load(root + layer_name,  allow_pickle=True)\r\n",
        "print(\"Reading testing labels ...\")\r\n",
        "layer_name = \"X_test.npy\"\r\n",
        "X_test0=np.load(root + layer_name,  allow_pickle=True)\r\n",
        "print(\"Done\")\r\n",
        "\r\n",
        "print(\"Scaling ...\")     \r\n",
        "sc = MinMaxScaler()   \r\n",
        "X_train = sc.fit_transform(X_train0)\r\n",
        "X_test = sc.transform(X_test0)\r\n",
        "\r\n",
        "print(\"Reshaping as 2d images ...\")\r\n",
        "X_train_2d=X_train.reshape(X_train.shape[0],N_images,N_features,1)\r\n",
        "X_test_2d=X_test.reshape(X_test.shape[0],N_images,N_features,1)"
      ],
      "execution_count": null,
      "outputs": [
        {
          "output_type": "stream",
          "text": [
            "Reading PolSAR features test datasets ...\n",
            "Counter({9.0: 347355, 2.0: 260715, 4.0: 155104, 7.0: 94766, 5.0: 67502, 0.0: 66061, 3.0: 63305, 6.0: 57005, 1.0: 34693, 8.0: 31703})\n",
            "Reading training labels ...\n",
            "Reading testing labels ...\n",
            "Done\n",
            "Scaling ...\n",
            "Reshaping as 2d images ...\n"
          ],
          "name": "stdout"
        }
      ]
    },
    {
      "cell_type": "code",
      "metadata": {
        "id": "5h0HBpt8P30K"
      },
      "source": [
        "#convert class vectors to binary class matrices (as required by the categorical cross entropy loss)\r\n",
        "# from keras.utils import np_utils\r\n",
        "# print(y_train0[0])\r\n",
        "# Y_train = np_utils.to_categorical(y_train0, np.unique(y_train0).shape[0])\r\n",
        "# Y_test = np_utils.to_categorical(y_test0, np.unique(y_test0).shape[0])\r\n",
        "# print(Y_train[0])\r\n",
        "\r\n",
        "# y_for_training = Y_train\r\n",
        "# y_for_testing = Y_test\r\n",
        "# y_for_testing_sparse = y_test0\r\n",
        "\r\n",
        "# Enable for PolSAR input data\r\n",
        "X_for_training = X_train_2d\r\n",
        "X_for_testing  = X_test_2d\r\n",
        "#X_for_validating=X_train_lev2_2d"
      ],
      "execution_count": null,
      "outputs": []
    },
    {
      "cell_type": "code",
      "metadata": {
        "colab": {
          "base_uri": "https://localhost:8080/"
        },
        "id": "SojE59KTTml3",
        "outputId": "1eaa2d06-6f08-419f-fbfb-2d3f1ee52359"
      },
      "source": [
        "model_name = \"PolSAR_V10_Nadam.h5\"\r\n",
        "save_model_name = \"/content/drive/My Drive/Datasets/AgriSAR_Paper2/Models/V6_to_V10/\"+model_name\r\n",
        "model_CS_PolSAR = load_model(save_model_name, custom_objects={'w_categorical_crossentropy': ncce})\r\n",
        "# Report + confusion matrix\r\n",
        "classes = ['Barley', 'Canaryseed', 'Canola', 'Durum Wheat', 'Field Pea', 'Flax', 'Lentil', 'Mixed Pasture', 'Oat', 'Spring Wheat']\r\n",
        "\r\n",
        "y_pred_PolSAR=np.argmax(model_CS_PolSAR.predict(X_for_testing), axis=-1)\r\n",
        "eval_model(y_test_CM0,y_pred_PolSAR,classes,model_name=model_name) \r\n",
        "cm = confusion_matrix(y_test_CM0, y_pred_PolSAR,normalize='true')\r\n",
        "cm = np.round(cm, 2)\r\n",
        "plot_my_confusion_matrix(cm, classes, cmap=plt.cm.Blues,save=1,model_name=model_name)"
      ],
      "execution_count": null,
      "outputs": [
        {
          "output_type": "stream",
          "text": [
            "                     NN_All_small\n",
            "f1_macro                 0.717630\n",
            "G_mean_macro             0.844913\n",
            "Balanced accuracy        0.727868\n",
            "Imbalanced accuracy      0.834680\n",
            " \n",
            "               precision    recall  f1-score       support\n",
            "Barley          0.458225  0.454713  0.456463   17875.00000\n",
            "Canaryseed      0.803362  0.596294  0.684511    8256.00000\n",
            "Canola          0.990942  0.993450  0.992195   74662.00000\n",
            "Durum Wheat     0.301875  0.193699  0.235981   12633.00000\n",
            "Field Pea       0.989019  0.990023  0.989521   44303.00000\n",
            "Flax            0.687096  0.867739  0.766924   20452.00000\n",
            "Lentil          0.604521  0.954572  0.740250   15211.00000\n",
            "Mixed Pasture   0.920261  0.938856  0.929466   24794.00000\n",
            "Oat             0.649655  0.495805  0.562398    8344.00000\n",
            "Spring Wheat    0.845296  0.793525  0.818593  100448.00000\n",
            "accuracy        0.834680  0.834680  0.834680       0.83468\n",
            "macro avg       0.725025  0.727868  0.717630  326978.00000\n",
            "weighted avg    0.834408  0.834680  0.830694  326978.00000\n",
            " \n"
          ],
          "name": "stdout"
        },
        {
          "output_type": "display_data",
          "data": {
            "application/javascript": [
              "\n",
              "    async function download(id, filename, size) {\n",
              "      if (!google.colab.kernel.accessAllowed) {\n",
              "        return;\n",
              "      }\n",
              "      const div = document.createElement('div');\n",
              "      const label = document.createElement('label');\n",
              "      label.textContent = `Downloading \"${filename}\": `;\n",
              "      div.appendChild(label);\n",
              "      const progress = document.createElement('progress');\n",
              "      progress.max = size;\n",
              "      div.appendChild(progress);\n",
              "      document.body.appendChild(div);\n",
              "\n",
              "      const buffers = [];\n",
              "      let downloaded = 0;\n",
              "\n",
              "      const channel = await google.colab.kernel.comms.open(id);\n",
              "      // Send a message to notify the kernel that we're ready.\n",
              "      channel.send({})\n",
              "\n",
              "      for await (const message of channel.messages) {\n",
              "        // Send a message to notify the kernel that we're ready.\n",
              "        channel.send({})\n",
              "        if (message.buffers) {\n",
              "          for (const buffer of message.buffers) {\n",
              "            buffers.push(buffer);\n",
              "            downloaded += buffer.byteLength;\n",
              "            progress.value = downloaded;\n",
              "          }\n",
              "        }\n",
              "      }\n",
              "      const blob = new Blob(buffers, {type: 'application/binary'});\n",
              "      const a = document.createElement('a');\n",
              "      a.href = window.URL.createObjectURL(blob);\n",
              "      a.download = filename;\n",
              "      div.appendChild(a);\n",
              "      a.click();\n",
              "      div.remove();\n",
              "    }\n",
              "  "
            ],
            "text/plain": [
              "<IPython.core.display.Javascript object>"
            ]
          },
          "metadata": {
            "tags": []
          }
        },
        {
          "output_type": "display_data",
          "data": {
            "application/javascript": [
              "download(\"download_4c9d546b-7be2-4656-bd09-60f9346ac4a4\", \"PolSAR_V10_Nadam.h5_metrics.csv\", 149)"
            ],
            "text/plain": [
              "<IPython.core.display.Javascript object>"
            ]
          },
          "metadata": {
            "tags": []
          }
        },
        {
          "output_type": "display_data",
          "data": {
            "application/javascript": [
              "\n",
              "    async function download(id, filename, size) {\n",
              "      if (!google.colab.kernel.accessAllowed) {\n",
              "        return;\n",
              "      }\n",
              "      const div = document.createElement('div');\n",
              "      const label = document.createElement('label');\n",
              "      label.textContent = `Downloading \"${filename}\": `;\n",
              "      div.appendChild(label);\n",
              "      const progress = document.createElement('progress');\n",
              "      progress.max = size;\n",
              "      div.appendChild(progress);\n",
              "      document.body.appendChild(div);\n",
              "\n",
              "      const buffers = [];\n",
              "      let downloaded = 0;\n",
              "\n",
              "      const channel = await google.colab.kernel.comms.open(id);\n",
              "      // Send a message to notify the kernel that we're ready.\n",
              "      channel.send({})\n",
              "\n",
              "      for await (const message of channel.messages) {\n",
              "        // Send a message to notify the kernel that we're ready.\n",
              "        channel.send({})\n",
              "        if (message.buffers) {\n",
              "          for (const buffer of message.buffers) {\n",
              "            buffers.push(buffer);\n",
              "            downloaded += buffer.byteLength;\n",
              "            progress.value = downloaded;\n",
              "          }\n",
              "        }\n",
              "      }\n",
              "      const blob = new Blob(buffers, {type: 'application/binary'});\n",
              "      const a = document.createElement('a');\n",
              "      a.href = window.URL.createObjectURL(blob);\n",
              "      a.download = filename;\n",
              "      div.appendChild(a);\n",
              "      a.click();\n",
              "      div.remove();\n",
              "    }\n",
              "  "
            ],
            "text/plain": [
              "<IPython.core.display.Javascript object>"
            ]
          },
          "metadata": {
            "tags": []
          }
        },
        {
          "output_type": "display_data",
          "data": {
            "application/javascript": [
              "download(\"download_6962da19-6fd6-4c88-8ce0-df7d4578bade\", \"PolSAR_V10_Nadam.h5_report.csv\", 1014)"
            ],
            "text/plain": [
              "<IPython.core.display.Javascript object>"
            ]
          },
          "metadata": {
            "tags": []
          }
        },
        {
          "output_type": "stream",
          "text": [
            "saving PolSAR_V10_Nadam.h5 ...\n"
          ],
          "name": "stdout"
        },
        {
          "output_type": "display_data",
          "data": {
            "application/javascript": [
              "\n",
              "    async function download(id, filename, size) {\n",
              "      if (!google.colab.kernel.accessAllowed) {\n",
              "        return;\n",
              "      }\n",
              "      const div = document.createElement('div');\n",
              "      const label = document.createElement('label');\n",
              "      label.textContent = `Downloading \"${filename}\": `;\n",
              "      div.appendChild(label);\n",
              "      const progress = document.createElement('progress');\n",
              "      progress.max = size;\n",
              "      div.appendChild(progress);\n",
              "      document.body.appendChild(div);\n",
              "\n",
              "      const buffers = [];\n",
              "      let downloaded = 0;\n",
              "\n",
              "      const channel = await google.colab.kernel.comms.open(id);\n",
              "      // Send a message to notify the kernel that we're ready.\n",
              "      channel.send({})\n",
              "\n",
              "      for await (const message of channel.messages) {\n",
              "        // Send a message to notify the kernel that we're ready.\n",
              "        channel.send({})\n",
              "        if (message.buffers) {\n",
              "          for (const buffer of message.buffers) {\n",
              "            buffers.push(buffer);\n",
              "            downloaded += buffer.byteLength;\n",
              "            progress.value = downloaded;\n",
              "          }\n",
              "        }\n",
              "      }\n",
              "      const blob = new Blob(buffers, {type: 'application/binary'});\n",
              "      const a = document.createElement('a');\n",
              "      a.href = window.URL.createObjectURL(blob);\n",
              "      a.download = filename;\n",
              "      div.appendChild(a);\n",
              "      a.click();\n",
              "      div.remove();\n",
              "    }\n",
              "  "
            ],
            "text/plain": [
              "<IPython.core.display.Javascript object>"
            ]
          },
          "metadata": {
            "tags": []
          }
        },
        {
          "output_type": "display_data",
          "data": {
            "application/javascript": [
              "download(\"download_87ca5659-0265-4ebd-b5cd-bdefd837c9af\", \"PolSAR_V10_Nadam.h5.png\", 73012)"
            ],
            "text/plain": [
              "<IPython.core.display.Javascript object>"
            ]
          },
          "metadata": {
            "tags": []
          }
        },
        {
          "output_type": "display_data",
          "data": {
            "image/png": "[encoded data removed]",
            "text/plain": [
              "<Figure size 864x576 with 2 Axes>"
            ]
          },
          "metadata": {
            "tags": [],
            "needs_background": "light"
          }
        }
      ]
    },
    {
      "cell_type": "markdown",
      "metadata": {
        "id": "vtGaNSMvZEyx"
      },
      "source": [
        "# PolSAR reduced"
      ]
    },
    {
      "cell_type": "code",
      "metadata": {
        "colab": {
          "base_uri": "https://localhost:8080/",
          "height": 927
        },
        "id": "trwt2QtZZGJS",
        "outputId": "3783211d-f471-4951-a07c-eddd1b09398c"
      },
      "source": [
        "model_name_red = \"PolSAR_red_V10_Nadam.h5\"\r\n",
        "save_model_name = \"/content/drive/My Drive/Datasets/AgriSAR_Paper2/Models/V6_to_V10/\"+model_name_red\r\n",
        "model_CS_red = load_model(save_model_name, custom_objects={'w_categorical_crossentropy_red': ncce_red})\r\n",
        "classes_red = ['Cereals', 'Canola', 'Field Pea', 'Flax', 'Lentil', 'Mixed Pasture']\r\n",
        "y_pred_red=np.argmax(model_CS_red.predict(X_for_testing), axis=-1)\r\n",
        "eval_model(y_test_red,y_pred_red,classes_red,model_name=model_name_red) \r\n",
        "cm = confusion_matrix(y_test_red,y_pred_red,normalize='true')\r\n",
        "cm = np.round(cm, 2)\r\n",
        "plot_my_confusion_matrix(cm, classes_red, cmap=plt.cm.Blues,save=1,model_name=model_name_red)"
      ],
      "execution_count": null,
      "outputs": [
        {
          "output_type": "stream",
          "text": [
            "                     NN_All_small\n",
            "f1_macro                 0.866614\n",
            "G_mean_macro             0.956687\n",
            "Balanced accuracy        0.927653\n",
            "Imbalanced accuracy      0.933313\n",
            " \n",
            "               precision    recall  f1-score        support\n",
            "Cereals         0.973346  0.901702  0.936155  142394.000000\n",
            "Canola          0.979186  0.995940  0.987492   82520.000000\n",
            "Field Pea       0.983885  0.957250  0.970384   44327.000000\n",
            "Flax            0.768641  0.871340  0.816775   18988.000000\n",
            "Lentil          0.445466  0.928692  0.602115    5946.000000\n",
            "Mixed Pasture   0.863789  0.910994  0.886763   23459.000000\n",
            "accuracy        0.933313  0.933313  0.933313       0.933313\n",
            "macro avg       0.835719  0.927653  0.866614  317634.000000\n",
            "weighted avg    0.946124  0.933313  0.937232  317634.000000\n",
            " \n"
          ],
          "name": "stdout"
        },
        {
          "output_type": "display_data",
          "data": {
            "application/javascript": [
              "\n",
              "    async function download(id, filename, size) {\n",
              "      if (!google.colab.kernel.accessAllowed) {\n",
              "        return;\n",
              "      }\n",
              "      const div = document.createElement('div');\n",
              "      const label = document.createElement('label');\n",
              "      label.textContent = `Downloading \"${filename}\": `;\n",
              "      div.appendChild(label);\n",
              "      const progress = document.createElement('progress');\n",
              "      progress.max = size;\n",
              "      div.appendChild(progress);\n",
              "      document.body.appendChild(div);\n",
              "\n",
              "      const buffers = [];\n",
              "      let downloaded = 0;\n",
              "\n",
              "      const channel = await google.colab.kernel.comms.open(id);\n",
              "      // Send a message to notify the kernel that we're ready.\n",
              "      channel.send({})\n",
              "\n",
              "      for await (const message of channel.messages) {\n",
              "        // Send a message to notify the kernel that we're ready.\n",
              "        channel.send({})\n",
              "        if (message.buffers) {\n",
              "          for (const buffer of message.buffers) {\n",
              "            buffers.push(buffer);\n",
              "            downloaded += buffer.byteLength;\n",
              "            progress.value = downloaded;\n",
              "          }\n",
              "        }\n",
              "      }\n",
              "      const blob = new Blob(buffers, {type: 'application/binary'});\n",
              "      const a = document.createElement('a');\n",
              "      a.href = window.URL.createObjectURL(blob);\n",
              "      a.download = filename;\n",
              "      div.appendChild(a);\n",
              "      a.click();\n",
              "      div.remove();\n",
              "    }\n",
              "  "
            ],
            "text/plain": [
              "<IPython.core.display.Javascript object>"
            ]
          },
          "metadata": {
            "tags": []
          }
        },
        {
          "output_type": "display_data",
          "data": {
            "application/javascript": [
              "download(\"download_ade038a4-4009-47b3-a9d3-231bcc797059\", \"PolSAR_red_V7_Nadam.h5_metrics.csv\", 150)"
            ],
            "text/plain": [
              "<IPython.core.display.Javascript object>"
            ]
          },
          "metadata": {
            "tags": []
          }
        },
        {
          "output_type": "display_data",
          "data": {
            "application/javascript": [
              "\n",
              "    async function download(id, filename, size) {\n",
              "      if (!google.colab.kernel.accessAllowed) {\n",
              "        return;\n",
              "      }\n",
              "      const div = document.createElement('div');\n",
              "      const label = document.createElement('label');\n",
              "      label.textContent = `Downloading \"${filename}\": `;\n",
              "      div.appendChild(label);\n",
              "      const progress = document.createElement('progress');\n",
              "      progress.max = size;\n",
              "      div.appendChild(progress);\n",
              "      document.body.appendChild(div);\n",
              "\n",
              "      const buffers = [];\n",
              "      let downloaded = 0;\n",
              "\n",
              "      const channel = await google.colab.kernel.comms.open(id);\n",
              "      // Send a message to notify the kernel that we're ready.\n",
              "      channel.send({})\n",
              "\n",
              "      for await (const message of channel.messages) {\n",
              "        // Send a message to notify the kernel that we're ready.\n",
              "        channel.send({})\n",
              "        if (message.buffers) {\n",
              "          for (const buffer of message.buffers) {\n",
              "            buffers.push(buffer);\n",
              "            downloaded += buffer.byteLength;\n",
              "            progress.value = downloaded;\n",
              "          }\n",
              "        }\n",
              "      }\n",
              "      const blob = new Blob(buffers, {type: 'application/binary'});\n",
              "      const a = document.createElement('a');\n",
              "      a.href = window.URL.createObjectURL(blob);\n",
              "      a.download = filename;\n",
              "      div.appendChild(a);\n",
              "      a.click();\n",
              "      div.remove();\n",
              "    }\n",
              "  "
            ],
            "text/plain": [
              "<IPython.core.display.Javascript object>"
            ]
          },
          "metadata": {
            "tags": []
          }
        },
        {
          "output_type": "display_data",
          "data": {
            "application/javascript": [
              "download(\"download_60eecc44-2a4e-498f-9e47-d74e79d24be9\", \"PolSAR_red_V7_Nadam.h5_report.csv\", 713)"
            ],
            "text/plain": [
              "<IPython.core.display.Javascript object>"
            ]
          },
          "metadata": {
            "tags": []
          }
        },
        {
          "output_type": "stream",
          "text": [
            "saving PolSAR_red_V7_Nadam.h5 ...\n"
          ],
          "name": "stdout"
        },
        {
          "output_type": "display_data",
          "data": {
            "application/javascript": [
              "\n",
              "    async function download(id, filename, size) {\n",
              "      if (!google.colab.kernel.accessAllowed) {\n",
              "        return;\n",
              "      }\n",
              "      const div = document.createElement('div');\n",
              "      const label = document.createElement('label');\n",
              "      label.textContent = `Downloading \"${filename}\": `;\n",
              "      div.appendChild(label);\n",
              "      const progress = document.createElement('progress');\n",
              "      progress.max = size;\n",
              "      div.appendChild(progress);\n",
              "      document.body.appendChild(div);\n",
              "\n",
              "      const buffers = [];\n",
              "      let downloaded = 0;\n",
              "\n",
              "      const channel = await google.colab.kernel.comms.open(id);\n",
              "      // Send a message to notify the kernel that we're ready.\n",
              "      channel.send({})\n",
              "\n",
              "      for await (const message of channel.messages) {\n",
              "        // Send a message to notify the kernel that we're ready.\n",
              "        channel.send({})\n",
              "        if (message.buffers) {\n",
              "          for (const buffer of message.buffers) {\n",
              "            buffers.push(buffer);\n",
              "            downloaded += buffer.byteLength;\n",
              "            progress.value = downloaded;\n",
              "          }\n",
              "        }\n",
              "      }\n",
              "      const blob = new Blob(buffers, {type: 'application/binary'});\n",
              "      const a = document.createElement('a');\n",
              "      a.href = window.URL.createObjectURL(blob);\n",
              "      a.download = filename;\n",
              "      div.appendChild(a);\n",
              "      a.click();\n",
              "      div.remove();\n",
              "    }\n",
              "  "
            ],
            "text/plain": [
              "<IPython.core.display.Javascript object>"
            ]
          },
          "metadata": {
            "tags": []
          }
        },
        {
          "output_type": "display_data",
          "data": {
            "application/javascript": [
              "download(\"download_598247a5-f740-4ba8-86ae-8e88bf55aca7\", \"PolSAR_red_V7_Nadam.h5.png\", 44550)"
            ],
            "text/plain": [
              "<IPython.core.display.Javascript object>"
            ]
          },
          "metadata": {
            "tags": []
          }
        },
        {
          "output_type": "display_data",
          "data": {
            "image/png": "[encoded data removed]",
            "text/plain": [
              "<Figure size 864x576 with 2 Axes>"
            ]
          },
          "metadata": {
            "tags": [],
            "needs_background": "light"
          }
        }
      ]
    }
  ]
}