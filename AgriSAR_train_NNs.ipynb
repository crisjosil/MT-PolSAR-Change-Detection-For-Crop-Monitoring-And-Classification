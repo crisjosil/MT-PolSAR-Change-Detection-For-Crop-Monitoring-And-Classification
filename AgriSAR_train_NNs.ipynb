{
  "nbformat": 4,
  "nbformat_minor": 0,
  "metadata": {
    "accelerator": "GPU",
    "colab": {
      "name": "AgriSAR_train_NNs.ipynb",
      "provenance": [],
      "collapsed_sections": [
        "2SyEQ54mknkV",
        "AWragxlPSUAc",
        "ETs9wJNsSYLF",
        "ohih2uHhlRzs",
        "MlpV5G1Kaq6n",
        "IkvzJ8RafxwG",
        "mCW9GbCJhdgt",
        "b-Jf2EYSsbuL",
        "B_vnAOTVdyWo",
        "VpjiRxw6ELKG",
        "Xp8nXvsVUZ6X",
        "Q4iXlUm1j4OA",
        "b7d-wxiqupPr"
      ],
      "toc_visible": true
    },
    "kernelspec": {
      "display_name": "Python 3",
      "name": "python3"
    }
  },
  "cells": [
    {
      "cell_type": "markdown",
      "metadata": {
        "id": "mt8rL5gxafee"
      },
      "source": [
        "# Crop type mapping from multitemporal Quad_PolSAR change detection: Neural network training\n",
        "In this notebook, Neural networks (NN) are trained using Keras for the crop type classification application presented in the paper: Multi-Temporal Polarimetric SAR (MT-PolSAR) Change Detection For Crop Monitoring And Crop Type Classification (under review)([link text](https://github.com/crisjosil/MT-PolSAR-Change-Detection-For-Crop-Monitoring-And-Classification)).  \n",
        "\n",
        "Given that the data available for training is highly imbalanced, we use a weighted categorical cross entropy loss function to train the NN. The final model uses three dense layers with relu activation function and Nadam optimiser with 5e-4 learning rate.\n",
        "\n",
        "Since the purpose was to compare classification performance between using the change matrix proposed in the paper and the traditional use of PolSAR time series, we train separate models for each case. The output of the model is the prediction of crop types, that can either be 10 classes when classifying the cereal crops individually (i.e. Barley, oats,wheat,etc) or 6 classes, when grouping the cereal into a single class.\n",
        "\n",
        "Please check the other notebooks in the repository to see the test and use of the models for prediction on the whole dataset."
      ]
    },
    {
      "cell_type": "markdown",
      "metadata": {
        "id": "1xcw_u1qZ34A"
      },
      "source": [
        "# Preliminars: Imports, load datasets"
      ]
    },
    {
      "cell_type": "code",
      "metadata": {
        "id": "I7UyE47LZ2kK",
        "colab": {
          "base_uri": "https://localhost:8080/"
        },
        "outputId": "c34487ef-c92d-4c96-e33a-6f176756b51f"
      },
      "source": [
        "!pip install fiona\n",
        "from google.colab import drive\n",
        "drive.mount('/content/drive')"
      ],
      "execution_count": null,
      "outputs": [
        {
          "output_type": "stream",
          "text": [
            "Collecting fiona\n",
            "\u001b[?25l  Downloading https://files.pythonhosted.org/packages/37/94/4910fd55246c1d963727b03885ead6ef1cd3748a465f7b0239ab25dfc9a3/Fiona-1.8.18-cp36-cp36m-manylinux1_x86_64.whl (14.8MB)\n",
            "\u001b[K     |████████████████████████████████| 14.8MB 204kB/s \n",
            "\u001b[?25hRequirement already satisfied: attrs>=17 in /usr/local/lib/python3.6/dist-packages (from fiona) (20.3.0)\n",
            "Requirement already satisfied: six>=1.7 in /usr/local/lib/python3.6/dist-packages (from fiona) (1.15.0)\n",
            "Requirement already satisfied: click<8,>=4.0 in /usr/local/lib/python3.6/dist-packages (from fiona) (7.1.2)\n",
            "Collecting cligj>=0.5\n",
            "  Downloading https://files.pythonhosted.org/packages/42/1e/947eadf10d6804bf276eb8a038bd5307996dceaaa41cfd21b7a15ec62f5d/cligj-0.7.1-py3-none-any.whl\n",
            "Collecting munch\n",
            "  Downloading https://files.pythonhosted.org/packages/cc/ab/85d8da5c9a45e072301beb37ad7f833cd344e04c817d97e0cc75681d248f/munch-2.5.0-py2.py3-none-any.whl\n",
            "Requirement already satisfied: certifi in /usr/local/lib/python3.6/dist-packages (from fiona) (2020.12.5)\n",
            "Collecting click-plugins>=1.0\n",
            "  Downloading https://files.pythonhosted.org/packages/e9/da/824b92d9942f4e472702488857914bdd50f73021efea15b4cad9aca8ecef/click_plugins-1.1.1-py2.py3-none-any.whl\n",
            "Installing collected packages: cligj, munch, click-plugins, fiona\n",
            "Successfully installed click-plugins-1.1.1 cligj-0.7.1 fiona-1.8.18 munch-2.5.0\n",
            "Mounted at /content/drive\n"
          ],
          "name": "stdout"
        }
      ]
    },
    {
      "cell_type": "code",
      "metadata": {
        "colab": {
          "base_uri": "https://localhost:8080/",
          "height": 322
        },
        "id": "oP3bwzEkZzFW",
        "outputId": "2b142ef9-0d25-42f5-96eb-364c3af85676"
      },
      "source": [
        "# python\n",
        "import numpy as np\n",
        "import pandas as pd\n",
        "import time\n",
        "import matplotlib.pyplot as plt \n",
        "from collections import Counter\n",
        "import fiona\n",
        "import os\n",
        "from itertools import product\n",
        "from __future__ import print_function\n",
        "from functools import partial\n",
        "import pandas as pd\n",
        "import itertools\n",
        "from google.colab import files\n",
        "from pickle import dump\n",
        "#sklearn\n",
        "from sklearn import preprocessing\n",
        "from sklearn.preprocessing import StandardScaler\n",
        "from sklearn.ensemble import RandomForestClassifier\n",
        "from sklearn.metrics import confusion_matrix\n",
        "from sklearn.metrics import accuracy_score\n",
        "from sklearn.metrics import f1_score\n",
        "from sklearn.metrics import balanced_accuracy_score\n",
        "from imblearn.metrics import geometric_mean_score\n",
        "from sklearn.metrics import plot_confusion_matrix\n",
        "from sklearn.model_selection import train_test_split\n",
        "from sklearn.model_selection import cross_val_score\n",
        "from sklearn.model_selection import KFold\n",
        "from sklearn.preprocessing import MinMaxScaler\n",
        "from sklearn.preprocessing import StandardScaler    \n",
        "from sklearn.preprocessing import Normalizer \n",
        "from sklearn.metrics import classification_report\n",
        "from sklearn.model_selection import GridSearchCV\n",
        "from sklearn.utils import class_weight\n",
        "\n",
        "# imblearn\n",
        "from imblearn.ensemble import BalancedRandomForestClassifier\n",
        "from imblearn.metrics import classification_report_imbalanced\n",
        "\n",
        "# Keras\n",
        "import keras\n",
        "from keras.models import Sequential\n",
        "from keras.layers import Dense,Activation,Dropout\n",
        "from keras.callbacks import EarlyStopping\n",
        "from keras.callbacks import ModelCheckpoint\n",
        "from keras.models import load_model\n",
        "from keras.wrappers.scikit_learn import KerasClassifier\n",
        "from keras.utils import np_utils\n",
        "import keras.backend as K\n",
        "# Tensor flow\n",
        "import tensorflow as tf\n",
        "import tensorflow_addons as tfa\n",
        "print(tf.__version__)\n",
        "tf.test.gpu_device_name()"
      ],
      "execution_count": null,
      "outputs": [
        {
          "output_type": "stream",
          "text": [
            "/usr/local/lib/python3.6/dist-packages/sklearn/externals/six.py:31: FutureWarning: The module is deprecated in version 0.21 and will be removed in version 0.23 since we've dropped support for Python 2.7. Please rely on the official version of six (https://pypi.org/project/six/).\n",
            "  \"(https://pypi.org/project/six/).\", FutureWarning)\n",
            "/usr/local/lib/python3.6/dist-packages/sklearn/utils/deprecation.py:144: FutureWarning: The sklearn.neighbors.base module is  deprecated in version 0.22 and will be removed in version 0.24. The corresponding classes / functions should instead be imported from sklearn.neighbors. Anything that cannot be imported from sklearn.neighbors is now part of the private API.\n",
            "  warnings.warn(message, FutureWarning)\n",
            "/usr/local/lib/python3.6/dist-packages/sklearn/utils/deprecation.py:144: FutureWarning: The sklearn.metrics.classification module is  deprecated in version 0.22 and will be removed in version 0.24. The corresponding classes / functions should instead be imported from sklearn.metrics. Anything that cannot be imported from sklearn.metrics is now part of the private API.\n",
            "  warnings.warn(message, FutureWarning)\n",
            "/usr/local/lib/python3.6/dist-packages/sklearn/utils/deprecation.py:144: FutureWarning: The sklearn.ensemble.bagging module is  deprecated in version 0.22 and will be removed in version 0.24. The corresponding classes / functions should instead be imported from sklearn.ensemble. Anything that cannot be imported from sklearn.ensemble is now part of the private API.\n",
            "  warnings.warn(message, FutureWarning)\n",
            "/usr/local/lib/python3.6/dist-packages/sklearn/utils/deprecation.py:144: FutureWarning: The sklearn.ensemble.base module is  deprecated in version 0.22 and will be removed in version 0.24. The corresponding classes / functions should instead be imported from sklearn.ensemble. Anything that cannot be imported from sklearn.ensemble is now part of the private API.\n",
            "  warnings.warn(message, FutureWarning)\n",
            "/usr/local/lib/python3.6/dist-packages/sklearn/utils/deprecation.py:144: FutureWarning: The sklearn.ensemble.forest module is  deprecated in version 0.22 and will be removed in version 0.24. The corresponding classes / functions should instead be imported from sklearn.ensemble. Anything that cannot be imported from sklearn.ensemble is now part of the private API.\n",
            "  warnings.warn(message, FutureWarning)\n",
            "/usr/local/lib/python3.6/dist-packages/sklearn/externals/joblib/__init__.py:15: FutureWarning: sklearn.externals.joblib is deprecated in 0.21 and will be removed in 0.23. Please import this functionality directly from joblib, which can be installed with: pip install joblib. If this warning is raised when loading pickled models, you may need to re-serialize those models with scikit-learn 0.21+.\n",
            "  warnings.warn(msg, category=FutureWarning)\n"
          ],
          "name": "stderr"
        },
        {
          "output_type": "stream",
          "text": [
            "2.4.1\n"
          ],
          "name": "stdout"
        },
        {
          "output_type": "execute_result",
          "data": {
            "application/vnd.google.colaboratory.intrinsic+json": {
              "type": "string"
            },
            "text/plain": [
              "'/device:GPU:0'"
            ]
          },
          "metadata": {
            "tags": []
          },
          "execution_count": 2
        }
      ]
    },
    {
      "cell_type": "markdown",
      "metadata": {
        "id": "DbB5kHO_aeJv"
      },
      "source": [
        "### Read datasets of polarimetric time series. \n",
        "Classification based on this dataset is used as baseline"
      ]
    },
    {
      "cell_type": "code",
      "metadata": {
        "id": "chwhC9DrR3tb"
      },
      "source": [
        "N_images=7\n",
        "N_features=16\n",
        "# Name to save the model\n",
        "model_name_list=['PolSAR_red_V10_Nadam']"
      ],
      "execution_count": null,
      "outputs": []
    },
    {
      "cell_type": "code",
      "metadata": {
        "colab": {
          "base_uri": "https://localhost:8080/"
        },
        "id": "cuKNYwBoSisL",
        "outputId": "d1b0273b-a75e-4358-e33e-fe7951996de8"
      },
      "source": [
        "print(\"Reading PolSAR features test datasets ...\")\n",
        "root=\"/content/drive/My Drive/Datasets/AgriSAR_Paper2/Final_datasets/PolSAR_F/V10/\"\n",
        "layer_name = \"y_train.npy\"\n",
        "y_train0=np.load(root + layer_name,  allow_pickle=True)\n",
        "layer_name = \"y_val.npy\"\n",
        "y_train0_lev2=np.load(root + layer_name,  allow_pickle=True)\n",
        "layer_name = \"y_test.npy\"\n",
        "y_test0=np.load(root + layer_name,  allow_pickle=True)\n",
        "print(Counter(y_train0))\n",
        "\n",
        "layer_name = \"X_train.npy\"\n",
        "X_train0=np.load(root + layer_name,  allow_pickle=True)\n",
        "print(\"Done\")\n",
        "layer_name = \"X_val.npy\"\n",
        "X_train0_lev2=np.load(root + layer_name,  allow_pickle=True)\n",
        "print(\"Reading testing labels ...\")\n",
        "layer_name = \"X_test.npy\"\n",
        "X_test0=np.load(root + layer_name,  allow_pickle=True)\n",
        "print(\"Done\")"
      ],
      "execution_count": null,
      "outputs": [
        {
          "output_type": "stream",
          "text": [
            "Reading PolSAR features test datasets ...\n",
            "Counter({9.0: 347355, 2.0: 260715, 4.0: 155104, 7.0: 94766, 5.0: 67502, 0.0: 66061, 3.0: 63305, 6.0: 57005, 1.0: 34693, 8.0: 31703})\n",
            "Done\n",
            "Reading testing labels ...\n",
            "Done\n"
          ],
          "name": "stdout"
        }
      ]
    },
    {
      "cell_type": "markdown",
      "metadata": {
        "id": "aOFnN1YTR6zh"
      },
      "source": [
        "### Scale data with MinMaxScaler() prior training the Neural Network"
      ]
    },
    {
      "cell_type": "code",
      "metadata": {
        "colab": {
          "base_uri": "https://localhost:8080/"
        },
        "id": "gyfI52Wmcrmx",
        "outputId": "7fd6c5e5-08d1-4589-b67b-dcde85fd5da0"
      },
      "source": [
        "print(\"Scaling ...\")     \n",
        "sc = MinMaxScaler()   \n",
        "X_train = sc.fit_transform(X_train0)\n",
        "X_train_lev2 = sc.transform(X_train0_lev2)\n",
        "X_test = sc.transform(X_test0)\n",
        "\n",
        "print(\"Reshaping as 2d images ...\")\n",
        "X_train_2d=X_train.reshape(X_train.shape[0],N_images,N_features,1)\n",
        "X_train_lev2_2d=X_train_lev2.reshape(X_train_lev2.shape[0],N_images,N_features,1)\n",
        "X_test_2d=X_test.reshape(X_test.shape[0],N_images,N_features,1)\n",
        "print(\"Training array shape: \"+str(X_train_2d.shape))\n",
        "print(\"Validation array shape: \"+str(X_train_lev2_2d.shape))\n",
        "print(\"Test array shape: \"+str(X_test_2d.shape))"
      ],
      "execution_count": null,
      "outputs": [
        {
          "output_type": "stream",
          "text": [
            "Scaling ...\n",
            "Reshaping as 2d images ...\n",
            "Training array shape: (1178209, 7, 16, 1)\n",
            "Validation array shape: (280545, 7, 16, 1)\n",
            "Test array shape: (326978, 7, 16, 1)\n"
          ],
          "name": "stdout"
        }
      ]
    },
    {
      "cell_type": "markdown",
      "metadata": {
        "id": "2SyEQ54mknkV"
      },
      "source": [
        "#### Show few random examples of PolSAR features organised as 2d images: \n",
        "Every 2d array is a pixel.\n",
        "Each columns is a PolSAR feature and every row is a date"
      ]
    },
    {
      "cell_type": "code",
      "metadata": {
        "colab": {
          "base_uri": "https://localhost:8080/"
        },
        "id": "6PHKDAZBeDhm",
        "outputId": "cdf66c97-01b7-4ab5-b565-4b8a700bbbd0"
      },
      "source": [
        "fig,(ax,ax1,ax2,ax3,ax4)=plt.subplots(nrows=1,ncols=5,figsize=(19,8))\n",
        "ax.imshow(X_train_2d[0,:,:,0])\n",
        "ax1.imshow(X_train_2d[100000,:,:,0])\n",
        "ax2.imshow(X_train_2d[200000,:,:,0])\n",
        "ax3.imshow(X_train_2d[300000,:,:,0])\n",
        "ax4.imshow(X_train_2d[400000,:,:,0])"
      ],
      "execution_count": null,
      "outputs": [
        {
          "output_type": "execute_result",
          "data": {
            "text/plain": [
              "<matplotlib.image.AxesImage at 0x7f1ae0398ef0>"
            ]
          },
          "metadata": {
            "tags": []
          },
          "execution_count": 11
        },
        {
          "output_type": "display_data",
          "data": {
            "image/png": "[encoded data removed]",
            "text/plain": [
              "<Figure size 1368x576 with 5 Axes>"
            ]
          },
          "metadata": {
            "tags": [],
            "needs_background": "light"
          }
        }
      ]
    },
    {
      "cell_type": "code",
      "metadata": {
        "id": "uFwE0vPKiIk9"
      },
      "source": [
        "# name to save model\n",
        "#model_name_list=['PolSAR_V8_Nadam']"
      ],
      "execution_count": null,
      "outputs": []
    },
    {
      "cell_type": "markdown",
      "metadata": {
        "id": "AWragxlPSUAc"
      },
      "source": [
        "### Read change matrices"
      ]
    },
    {
      "cell_type": "code",
      "metadata": {
        "id": "0AtshRd3u30r"
      },
      "source": [
        "model_name_list=['CM_diag_V7_Nadam']"
      ],
      "execution_count": null,
      "outputs": []
    },
    {
      "cell_type": "code",
      "metadata": {
        "id": "iEwaPvU1tf3G",
        "colab": {
          "base_uri": "https://localhost:8080/"
        },
        "outputId": "fa3f7bb1-0bc4-47ae-89b0-d397d12f1c94"
      },
      "source": [
        "# # Change matrices\n",
        "root=\"/content/drive/My Drive/Datasets/AgriSAR_Paper2/Final_datasets/CM/V7/\"\n",
        "#var='_.npy'\n",
        "var='_with_diag.npy'#\n",
        "layer_name = \"y_train\"+var\n",
        "y_train_CM0=np.load(root + layer_name,  allow_pickle=True)\n",
        "layer_name = \"y_test\"+var\n",
        "y_test_CM0=np.load(root + layer_name,  allow_pickle=True)\n",
        "# layer_name = \"y_val\"+var\n",
        "# y_train_CM0_lev2=np.load(root + layer_name,  allow_pickle=True)\n",
        "\n",
        "print(\"Reading training data ...\")\n",
        "layer_name = \"X_train\"+var\n",
        "X_train_CM0=np.load(root + layer_name,  allow_pickle=True)\n",
        "X_train_CM0 = np.nan_to_num(X_train_CM0)\n",
        "print(\"Reading testing data ...\")\n",
        "layer_name = \"X_test\"+var\n",
        "X_test_CM0=np.load(root + layer_name,  allow_pickle=True)\n",
        "X_test_CM0 = np.nan_to_num(X_test_CM0)\n",
        "#print(\"Reading validation data ...\")\n",
        "# layer_name = \"X_val\"+var\n",
        "# X_train_CM0_lev2=np.load(root + layer_name,  allow_pickle=True)\n",
        "# X_train_CM0_lev2 = np.nan_to_num(X_train_CM0_lev2)\n",
        "print(\"Done\")"
      ],
      "execution_count": null,
      "outputs": [
        {
          "output_type": "stream",
          "text": [
            "Reading training data ...\n",
            "Reading testing data ...\n",
            "Done\n"
          ],
          "name": "stdout"
        }
      ]
    },
    {
      "cell_type": "markdown",
      "metadata": {
        "id": "ETs9wJNsSYLF"
      },
      "source": [
        "#### Plot some change matrices without scaling"
      ]
    },
    {
      "cell_type": "code",
      "metadata": {
        "colab": {
          "base_uri": "https://localhost:8080/",
          "height": 335
        },
        "id": "xa_Pi8T3GcM6",
        "outputId": "72aedf47-0648-45b3-f92d-974a987b93cc"
      },
      "source": [
        "print(\"Reshaping as 2d images ...\")\n",
        "X_train_CM0_2d=X_train_CM0.reshape(X_train_CM0.shape[0],N_images,N_images,3)\n",
        "#X_train_CM0_lev2_2d=X_train_CM0_lev2.reshape(X_train_CM0_lev2.shape[0],N_images,N_images,3)\n",
        "X_test_CM0_2d=X_test_CM0.reshape(X_test_CM0.shape[0],N_images,N_images,3)\n",
        "print(\"Training array shape: \"+str(X_train_CM0_2d.shape))\n",
        "#print(\"Validation array shape: \"+str(X_train_CM_lev2_2d.shape))\n",
        "print(\"Test array shape: \"+str(X_test_CM0_2d.shape))\n",
        "#X_train_Tr5 = tf.keras.utils.normalize(X_train_Tr5, axis=1)\n",
        "#X_test_Ts5 = tf.keras.utils.normalize(X_test_Ts5, axis=1)\n",
        "\n",
        "fig,(ax,ax1,ax2,ax3,ax4)=plt.subplots(nrows=1,ncols=5,figsize=(19,8))\n",
        "ax.imshow(X_train_CM0_2d[50000,:,:,:]*5)\n",
        "ax.set_title(\"Crop type: \"+str(y_train_CM0[50000]))\n",
        "ax1.imshow(X_train_CM0_2d[100000,:,:,:]*5)\n",
        "ax1.set_title(\"Crop type: \"+str(y_train_CM0[100000]))\n",
        "ax2.imshow(X_train_CM0_2d[250000,:,:,:]*5)\n",
        "ax2.set_title(\"Crop type: \"+str(y_train_CM0[250000]))\n",
        "ax3.imshow(X_train_CM0_2d[370000,:,:,:]*5)\n",
        "ax3.set_title(\"Crop type: \"+str(y_train_CM0[370000]))\n",
        "ax4.imshow(X_train_CM0_2d[800000,:,:,:]*5)\n",
        "ax4.set_title(\"Crop type: \"+str(y_train_CM0[800000]))"
      ],
      "execution_count": null,
      "outputs": [
        {
          "output_type": "stream",
          "text": [
            "Clipping input data to the valid range for imshow with RGB data ([0..1] for floats or [0..255] for integers).\n",
            "Clipping input data to the valid range for imshow with RGB data ([0..1] for floats or [0..255] for integers).\n"
          ],
          "name": "stderr"
        },
        {
          "output_type": "stream",
          "text": [
            "Reshaping as 2d images ...\n",
            "Training array shape: (1176829, 7, 7, 3)\n",
            "Test array shape: (317634, 7, 7, 3)\n"
          ],
          "name": "stdout"
        },
        {
          "output_type": "execute_result",
          "data": {
            "text/plain": [
              "Text(0.5, 1.0, 'Crop type: 9.0')"
            ]
          },
          "metadata": {
            "tags": []
          },
          "execution_count": 6
        },
        {
          "output_type": "display_data",
          "data": {
            "image/png": "[encoded data removed]",
            "text/plain": [
              "<Figure size 1368x576 with 5 Axes>"
            ]
          },
          "metadata": {
            "tags": [],
            "needs_background": "light"
          }
        }
      ]
    },
    {
      "cell_type": "markdown",
      "metadata": {
        "id": "ohih2uHhlRzs"
      },
      "source": [
        "#### Scale and plot some change matrices with scaling\n",
        "Note: Because of the min_max scaling, the change matrix no longer shows physical scattering mechanisms"
      ]
    },
    {
      "cell_type": "code",
      "metadata": {
        "colab": {
          "base_uri": "https://localhost:8080/"
        },
        "id": "LWMud50wdESv",
        "outputId": "0cefc08c-2960-4773-e337-26628bf43138"
      },
      "source": [
        "print(\"Scaling ...\")     \n",
        "# without normalizing change matrix   \n",
        "# X_train_CM = X_train_CM0\n",
        "# X_train_CM_lev2 = X_train_CM0_lev2\n",
        "# X_test_CM = X_test_CM0\n",
        "\n",
        "sc = MinMaxScaler()\n",
        "#sc = StandardScaler() \n",
        "#sc = Normalizer() \n",
        "X_train_CM = sc.fit_transform(X_train_CM0)\n",
        "#X_train_CM_lev2 = sc.transform(X_train_CM0_lev2) \n",
        "X_test_CM = sc.transform(X_test_CM0)\n",
        "# save the scaler\n",
        "dump(sc, open('scaler.pkl', 'wb'))\n",
        "\n",
        "print(\"Reshaping as 2d images ...\")\n",
        "X_train_CM_2d=X_train_CM.reshape(X_train_CM.shape[0],N_images,N_images,3)\n",
        "#X_train_CM_lev2_2d=X_train_CM_lev2.reshape(X_train_CM_lev2.shape[0],N_images,N_images,3)\n",
        "X_test_CM_2d=X_test_CM.reshape(X_test_CM.shape[0],N_images,N_images,3)\n",
        "print(\"Training array shape: \"+str(X_train_CM_2d.shape))\n",
        "#print(\"Validation array shape: \"+str(X_train_CM_lev2_2d.shape))\n",
        "print(\"Test array shape: \"+str(X_test_CM_2d.shape))\n",
        "#X_train_Tr5 = tf.keras.utils.normalize(X_train_Tr5, axis=1)\n",
        "#X_test_Ts5 = tf.keras.utils.normalize(X_test_Ts5, axis=1)"
      ],
      "execution_count": null,
      "outputs": [
        {
          "output_type": "stream",
          "text": [
            "Scaling ...\n",
            "Reshaping as 2d images ...\n",
            "Training array shape: (1176829, 7, 7, 3)\n",
            "Test array shape: (317634, 7, 7, 3)\n"
          ],
          "name": "stdout"
        }
      ]
    },
    {
      "cell_type": "code",
      "metadata": {
        "colab": {
          "base_uri": "https://localhost:8080/",
          "height": 321
        },
        "id": "8B9FXa5Bk8GU",
        "outputId": "e9d5e753-26f6-4daf-d1e4-2af3267e93d1"
      },
      "source": [
        "fig,(ax,ax1,ax2,ax3,ax4)=plt.subplots(nrows=1,ncols=5,figsize=(19,8))\n",
        "ax.imshow(X_train_CM_2d[50000,:,:,:]*5)\n",
        "#ax.set_title(\"Crop type: \"+str(y_train0[646782]))\n",
        "ax1.imshow(X_train_CM_2d[100000,:,:,:]*5)\n",
        "#ax1.set_title(\"Crop type: \"+str(y_train0[100000]))\n",
        "ax2.imshow(X_train_CM_2d[250000,:,:,:]*5)\n",
        "#ax2.set_title(\"Crop type: \"+str(y_train0[250000]))\n",
        "ax3.imshow(X_train_CM_2d[370000,:,:,:]*5)\n",
        "#ax3.set_title(\"Crop type: \"+str(y_train0[370000]))\n",
        "ax4.imshow(X_train_CM_2d[800000,:,:,:]*5)\n",
        "#ax4.set_title(\"Crop type: \"+str(y_train0[800000]))"
      ],
      "execution_count": null,
      "outputs": [
        {
          "output_type": "stream",
          "text": [
            "Clipping input data to the valid range for imshow with RGB data ([0..1] for floats or [0..255] for integers).\n",
            "Clipping input data to the valid range for imshow with RGB data ([0..1] for floats or [0..255] for integers).\n",
            "Clipping input data to the valid range for imshow with RGB data ([0..1] for floats or [0..255] for integers).\n",
            "Clipping input data to the valid range for imshow with RGB data ([0..1] for floats or [0..255] for integers).\n",
            "Clipping input data to the valid range for imshow with RGB data ([0..1] for floats or [0..255] for integers).\n"
          ],
          "name": "stderr"
        },
        {
          "output_type": "execute_result",
          "data": {
            "text/plain": [
              "<matplotlib.image.AxesImage at 0x7f9a14058f60>"
            ]
          },
          "metadata": {
            "tags": []
          },
          "execution_count": 8
        },
        {
          "output_type": "display_data",
          "data": {
            "image/png": "[encoded data removed]",
            "text/plain": [
              "<Figure size 1368x576 with 5 Axes>"
            ]
          },
          "metadata": {
            "tags": [],
            "needs_background": "light"
          }
        }
      ]
    },
    {
      "cell_type": "code",
      "metadata": {
        "id": "PIFy-kErdmRn"
      },
      "source": [
        "# fig,(ax,ax1,ax2,ax3,ax4)=plt.subplots(nrows=1,ncols=5,figsize=(19,8))\n",
        "# ax.imshow(X_train_CM_lev2_2d[0,:,:,:]*5)\n",
        "# ax.set_title(\"Crop type: \"+str(y_train_CM0[0]))\n",
        "# ax1.imshow(X_train_CM_lev2_2d[100000,:,:,:]*5)\n",
        "# ax1.set_title(\"Crop type: \"+str(y_train_CM0[10000]))\n",
        "# ax2.imshow(X_train_CM_lev2_2d[25000,:,:,:]*5)\n",
        "# ax2.set_title(\"Crop type: \"+str(y_train_CM0[25000]))\n",
        "# ax3.imshow(X_train_CM_lev2_2d[37000,:,:,:]*5)\n",
        "# ax3.set_title(\"Crop type: \"+str(y_train_CM0[37000]))\n",
        "# ax4.imshow(X_train_CM_lev2_2d[-1,:,:,:]*5)\n",
        "# ax4.set_title(\"Crop type: \"+str(y_train_CM0[-1]))"
      ],
      "execution_count": null,
      "outputs": []
    },
    {
      "cell_type": "markdown",
      "metadata": {
        "id": "eZIgZzu2adbN"
      },
      "source": [
        ""
      ]
    },
    {
      "cell_type": "markdown",
      "metadata": {
        "id": "omQfhNakfLef"
      },
      "source": [
        "# Custom Loss function for imbalanced classification\n",
        "\n",
        "\n",
        "*   Uses weighted categorical cross entropy\n",
        "\n",
        "\n"
      ]
    },
    {
      "cell_type": "markdown",
      "metadata": {
        "id": "MlpV5G1Kaq6n"
      },
      "source": [
        "### Class and sample_weights\n",
        "\n",
        "Note that here we give more weights to the classes and samples with lower number of samples represented in the training data"
      ]
    },
    {
      "cell_type": "code",
      "metadata": {
        "id": "vKlCSTFImTJO"
      },
      "source": [
        "#y_tr = y_train_CM0 # Enable for CM\n",
        "y_tr = y_train0 # enable for PolSAR"
      ],
      "execution_count": null,
      "outputs": []
    },
    {
      "cell_type": "code",
      "metadata": {
        "colab": {
          "base_uri": "https://localhost:8080/"
        },
        "id": "9Y1HHfvuamgh",
        "outputId": "d177e37d-a73a-4d6f-f555-d9b7569a98a5"
      },
      "source": [
        "# Determine weight of each class according to number of samples\n",
        "# For train\n",
        "class_weights = class_weight.compute_class_weight('balanced',\n",
        "                                                 np.unique(y_tr),\n",
        "                                                 y_tr)\n",
        "class_weight_dict = dict(enumerate(class_weights/class_weights.max())) # normalize the weights to one\n",
        "\n",
        "sample_weight=np.zeros(y_tr.shape)\n",
        "for r in np.unique(y_tr):\n",
        "  sample_weight=np.where(y_tr==r,class_weight_dict[r],sample_weight)\n",
        "\n",
        "print(np.unique(sample_weight))\n",
        "print(class_weight_dict)"
      ],
      "execution_count": null,
      "outputs": [
        {
          "output_type": "stream",
          "text": [
            "[0.09126974 0.12160021 0.20439834 0.33453981 0.46966016 0.47990494\n",
            " 0.50079773 0.5561442  0.91381547 1.        ]\n",
            "{0: 0.4799049363467099, 1: 0.9138154670971089, 2: 0.12160021479393208, 3: 0.5007977252981597, 4: 0.20439833917887354, 5: 0.4696601582175343, 6: 0.5561441978773792, 7: 0.3345398138572906, 8: 1.0, 9: 0.09126973845201596}\n"
          ],
          "name": "stdout"
        }
      ]
    },
    {
      "cell_type": "code",
      "metadata": {
        "id": "DDPEOCdCfNJF"
      },
      "source": [
        "# Custom loss function with costs\n",
        "def w_categorical_crossentropy(y_true, y_pred, weights):\n",
        "    nb_cl = len(weights)\n",
        "    final_mask = K.zeros_like(y_pred[:, 0])\n",
        "    y_pred_max = K.max(y_pred, axis=1)\n",
        "    y_pred_max = K.expand_dims(y_pred_max, 1)\n",
        "    y_pred_max_mat = K.equal(y_pred, y_pred_max)\n",
        "    for c_p, c_t in product(range(nb_cl), range(nb_cl)):\n",
        "\n",
        "        final_mask += (K.cast(weights[c_t, c_p],K.floatx()) * K.cast(y_pred_max_mat[:, c_p] ,K.floatx())* K.cast(y_true[:, c_t],K.floatx()))\n",
        "    return K.categorical_crossentropy(y_pred, y_true) * final_mask"
      ],
      "execution_count": null,
      "outputs": []
    },
    {
      "cell_type": "code",
      "metadata": {
        "colab": {
          "base_uri": "https://localhost:8080/"
        },
        "id": "IfFmoPm2fo7W",
        "outputId": "e59220a7-f1e5-4ea5-fd70-0ab143bd1891"
      },
      "source": [
        "# Array with weights\n",
        "w_array = np.ones((10,10))\n",
        "for i in range(10):\n",
        "  w_array[:,i]=class_weight_dict[i]\n",
        "for i in range(10):\n",
        "  w_array[i,i]=1\n",
        "w_array"
      ],
      "execution_count": null,
      "outputs": [
        {
          "output_type": "execute_result",
          "data": {
            "text/plain": [
              "array([[1.        , 0.91381547, 0.12160021, 0.50079773, 0.20439834,\n",
              "        0.46966016, 0.5561442 , 0.33453981, 1.        , 0.09126974],\n",
              "       [0.47990494, 1.        , 0.12160021, 0.50079773, 0.20439834,\n",
              "        0.46966016, 0.5561442 , 0.33453981, 1.        , 0.09126974],\n",
              "       [0.47990494, 0.91381547, 1.        , 0.50079773, 0.20439834,\n",
              "        0.46966016, 0.5561442 , 0.33453981, 1.        , 0.09126974],\n",
              "       [0.47990494, 0.91381547, 0.12160021, 1.        , 0.20439834,\n",
              "        0.46966016, 0.5561442 , 0.33453981, 1.        , 0.09126974],\n",
              "       [0.47990494, 0.91381547, 0.12160021, 0.50079773, 1.        ,\n",
              "        0.46966016, 0.5561442 , 0.33453981, 1.        , 0.09126974],\n",
              "       [0.47990494, 0.91381547, 0.12160021, 0.50079773, 0.20439834,\n",
              "        1.        , 0.5561442 , 0.33453981, 1.        , 0.09126974],\n",
              "       [0.47990494, 0.91381547, 0.12160021, 0.50079773, 0.20439834,\n",
              "        0.46966016, 1.        , 0.33453981, 1.        , 0.09126974],\n",
              "       [0.47990494, 0.91381547, 0.12160021, 0.50079773, 0.20439834,\n",
              "        0.46966016, 0.5561442 , 1.        , 1.        , 0.09126974],\n",
              "       [0.47990494, 0.91381547, 0.12160021, 0.50079773, 0.20439834,\n",
              "        0.46966016, 0.5561442 , 0.33453981, 1.        , 0.09126974],\n",
              "       [0.47990494, 0.91381547, 0.12160021, 0.50079773, 0.20439834,\n",
              "        0.46966016, 0.5561442 , 0.33453981, 1.        , 1.        ]])"
            ]
          },
          "metadata": {
            "tags": []
          },
          "execution_count": 18
        }
      ]
    },
    {
      "cell_type": "code",
      "metadata": {
        "id": "Rg-sqGgOfrf-"
      },
      "source": [
        "ncce = partial(w_categorical_crossentropy, weights=w_array)\n",
        "ncce.__name__ ='w_categorical_crossentropy'"
      ],
      "execution_count": null,
      "outputs": []
    },
    {
      "cell_type": "markdown",
      "metadata": {
        "id": "IkvzJ8RafxwG"
      },
      "source": [
        "# Custom metrics and callbacks\n",
        "\n",
        "*   f1_macro\n",
        "*   Balanced accuracy\n",
        "*   Normal accuracy, just for information\n",
        "\n",
        "\n",
        "*   Callback to save the model which achieves best balanced accuracy\n",
        "*   Callback to adjust learning rate: case-specific  \n",
        "\n",
        "\n",
        "\n",
        "\n",
        "\n"
      ]
    },
    {
      "cell_type": "code",
      "metadata": {
        "id": "960gS4_nfw0G"
      },
      "source": [
        "import sklearn.metrics as sklm\n",
        "class My_Metrics(tf.keras.callbacks.Callback):\n",
        "    def __init__(self, X_validation, y_validation, save_model_name, logs={}):\n",
        "        #self.confusion = []\n",
        "        #self.precision = []\n",
        "        #self.recall = []\n",
        "        self.f1s = [0]\n",
        "        #self.kappa = []\n",
        "        #self.auc = []\n",
        "        self.bal_acc=[0]\n",
        "        self.Imbal_acc=[0]\n",
        "        # Counter thay increases by one if balanced accuracy does not improve. \n",
        "        # Training stops when the counter equals the patience \n",
        "        self.improving = 0\n",
        "        self.my_patience= 3\n",
        "        self.X_validation = X_validation\n",
        "        self.y_validation = y_validation\n",
        "        self.save_model_name=save_model_name\n",
        "         \n",
        "\n",
        "    def on_epoch_end(self, epoch, lr, logs={}):\n",
        "        y_pred = np.argmax( self.model.predict(self.X_validation), axis=-1)      \n",
        "        #self.confusion.append(confusion_matrix(y_test, y_pred))\n",
        "        #self.kappa.append(cohen_kappa_score(y_test, y_pred))\n",
        "        f1_macro = f1_score(self.y_validation, y_pred, average='macro')\n",
        "        Bal_acc = balanced_accuracy_score(self.y_validation, y_pred, sample_weight=None, adjusted=False)\n",
        "        Imb_acc = accuracy_score(self.y_validation, y_pred, sample_weight=None)\n",
        "        self.bal_acc.append(Bal_acc)\n",
        "        self.f1s.append(f1_macro)\n",
        "        print(\" \")\n",
        "        print(\"Bal_accuracy: \"+str(round(Bal_acc,3)))\n",
        "        print(\"F1_macro: \"+str(round(f1_macro,3)))\n",
        "        print(\"Imbal_accuracy: \"+str(round(Imb_acc,3)))\n",
        "        \n",
        "        if all(i < Bal_acc for i in self.Imbal_acc) == True:  # replaces callback to save model\n",
        "          print(\"Highest balanced accuracy so far. Saving model ...\")\n",
        "          self.improving = 0\n",
        "          self.model.save(self.save_model_name+'.h5')\n",
        "        else:\n",
        "          self.improving = self.improving + 1\n",
        "          print(\"Balanced accuracy did not improve. (\"+str(self.improving)+\")\")\n",
        "\n",
        "        if self.improving == self.my_patience:\n",
        "          self.model.stop_training = True\n",
        "          print(\"Balanced accuracy did not improve in \"+str(self.my_patience)+\" epochs. Stopping training.\")\n",
        "        # else:\n",
        "        #   print(\"Balanced accuracy improved wrt the last 3 epochs\")\n",
        "        \n",
        "        self.Imbal_acc.append(Bal_acc)\n",
        "        \n",
        "# This function keeps the initial learning rate for the first 4 epochs  \n",
        "# and decreases it exponentially after that.  \n",
        "def scheduler(epoch, lr):\n",
        "    if epoch < 2:\n",
        "      return lr\n",
        "    else:\n",
        "      #return lr * tf.math.exp(-0.1)\n",
        "      lr = 0.00001\n",
        "      return lr\n",
        "    #return"
      ],
      "execution_count": null,
      "outputs": []
    },
    {
      "cell_type": "markdown",
      "metadata": {
        "id": "mCW9GbCJhdgt"
      },
      "source": [
        "# Define a DNN model with the functional Keras API"
      ]
    },
    {
      "cell_type": "code",
      "metadata": {
        "id": "vrXEPNWGhd2f"
      },
      "source": [
        "def model_3_512(in_tensor, Num_classes, name_in_lay):\n",
        "  # functional API model\n",
        "  # define two sets of inputs\n",
        "  input_1 = tf.keras.Input(shape=(in_tensor.shape[1],in_tensor.shape[2],in_tensor.shape[3]),name=name_in_lay)\n",
        "  #input_2 = tf.keras.Input(shape=(X_train_CM_2d.shape[1],X_train_CM_2d.shape[2],X_train_CM_2d.shape[3]))\n",
        "  x1 = tf.keras.layers.Flatten(name='Flatten')(input_1)\n",
        "  #x = tf.keras.layers.concatenate([x1,x2])\n",
        "  x = tf.keras.layers.BatchNormalization(name='BN_1')(x1)\n",
        "  x = tf.keras.layers.Dense(512,activation='relu',kernel_initializer='he_normal',name='Dense_1')(x)\n",
        "  x = tf.keras.layers.BatchNormalization(name='BN_2')(x)\n",
        "  #x = tf.keras.layers.Dropout(0.2)(x)\n",
        "  x = tf.keras.layers.Dense(512,activation='relu',kernel_initializer='he_normal',name='Dense_2')(x)\n",
        "  x = tf.keras.layers.BatchNormalization(name='BN_3')(x)\n",
        "  #x = tf.keras.layers.Dropout(0.2)(x)\n",
        "  x = tf.keras.layers.Dense(512,activation='relu',kernel_initializer='he_normal',name='Dense_3')(x)\n",
        "  x = tf.keras.layers.BatchNormalization(name='BN_4')(x)\n",
        "  #x = tf.keras.layers.Dropout(0.2)(x)\n",
        "  outputs = tf.keras.layers.Dense(Num_classes, activation='softmax')(x)\n",
        "  model = tf.keras.Model(inputs=input_1, outputs=outputs)\n",
        "  #model = tf.keras.Model(inputs=[input_1,input_2], outputs=outputs)\n",
        "  return(model)"
      ],
      "execution_count": null,
      "outputs": []
    },
    {
      "cell_type": "markdown",
      "metadata": {
        "id": "qdCczwhOTMm1"
      },
      "source": [
        "# Define input datasets for train\\validation\\test"
      ]
    },
    {
      "cell_type": "markdown",
      "metadata": {
        "id": "o4QfzhmmsegN"
      },
      "source": [
        "#### Enable for PolSAR"
      ]
    },
    {
      "cell_type": "code",
      "metadata": {
        "id": "1bD9b4WusDGd",
        "colab": {
          "base_uri": "https://localhost:8080/"
        },
        "outputId": "a1c5c48b-dae4-419a-ebee-d43a4a4c3552"
      },
      "source": [
        "#convert class vectors to binary class matrices (as required by the categorical cross entropy loss)\n",
        "from keras.utils import np_utils\n",
        "print(y_train0[0])\n",
        "Y_train = np_utils.to_categorical(y_train0, np.unique(y_train0).shape[0])\n",
        "Y_val = np_utils.to_categorical(y_train0_lev2, np.unique(y_train0_lev2).shape[0])\n",
        "Y_test = np_utils.to_categorical(y_test0, np.unique(y_test0).shape[0])\n",
        "print(Y_train[0])\n",
        "\n",
        "y_for_training=Y_train\n",
        "y_for_validating=Y_val\n",
        "y_for_testing=Y_test\n",
        "y_for_validating_sparse=y_train0_lev2\n",
        "y_for_testing_sparse=y_test0"
      ],
      "execution_count": null,
      "outputs": [
        {
          "output_type": "stream",
          "text": [
            "2.0\n",
            "[0. 0. 1. 0. 0. 0. 0. 0. 0. 0.]\n"
          ],
          "name": "stdout"
        }
      ]
    },
    {
      "cell_type": "code",
      "metadata": {
        "id": "V8EIWEn8sWC1"
      },
      "source": [
        "# Enable for PolSAR input data\n",
        "X_for_training=X_train_2d\n",
        "X_for_testing=X_test_2d\n",
        "X_for_validating=X_train_lev2_2d\n",
        "name_in_lay='PolSAR_Input'\n",
        "#model_name_list=['PolSAR_Adam_1e_4','PolSAR_SGD_1e_4','PolSAR_Nadam_1e_4']\n"
      ],
      "execution_count": null,
      "outputs": []
    },
    {
      "cell_type": "markdown",
      "metadata": {
        "id": "b-Jf2EYSsbuL"
      },
      "source": [
        "#### Enable for Change matrix"
      ]
    },
    {
      "cell_type": "code",
      "metadata": {
        "id": "aHG6Vabah1eT"
      },
      "source": [
        "#Enable for change matrix input data\n",
        "X_for_training=X_train_CM_2d\n",
        "X_for_testing= X_test_CM_2d\n",
        "X_for_validating=X_train_CM_lev2_2d\n",
        "# save_model_name = 'CM_adam_1e_3.h5'\n",
        "name_in_lay='CM_Input'\n",
        "#model_name_list=['CM_alb_Adam','CM_alb_SGD','CM_alb_Nadam']\n"
      ],
      "execution_count": null,
      "outputs": []
    },
    {
      "cell_type": "code",
      "metadata": {
        "colab": {
          "base_uri": "https://localhost:8080/"
        },
        "id": "N5jPiD5RplYf",
        "outputId": "e47ea7c0-9374-48d4-d942-8cb165ee303e"
      },
      "source": [
        "np.unique(y_train_CM0)"
      ],
      "execution_count": null,
      "outputs": [
        {
          "output_type": "execute_result",
          "data": {
            "text/plain": [
              "array([0., 1., 2., 3., 4., 5., 6., 7., 8., 9.])"
            ]
          },
          "metadata": {
            "tags": []
          },
          "execution_count": 22
        }
      ]
    },
    {
      "cell_type": "code",
      "metadata": {
        "colab": {
          "base_uri": "https://localhost:8080/"
        },
        "id": "c6KzPkmcplO1",
        "outputId": "d62c8f18-7b34-46bd-cc0f-17947769e52f"
      },
      "source": [
        "np.unique(y_train_CM0_lev2)"
      ],
      "execution_count": null,
      "outputs": [
        {
          "output_type": "execute_result",
          "data": {
            "text/plain": [
              "array([0., 1., 2., 3., 4., 5., 6., 7., 8., 9.])"
            ]
          },
          "metadata": {
            "tags": []
          },
          "execution_count": 23
        }
      ]
    },
    {
      "cell_type": "code",
      "metadata": {
        "colab": {
          "base_uri": "https://localhost:8080/"
        },
        "id": "Bonfh-e5oSE9",
        "outputId": "14f10b06-d164-4127-ea1e-bca077fe7b34"
      },
      "source": [
        "np.unique(y_test_CM0)"
      ],
      "execution_count": null,
      "outputs": [
        {
          "output_type": "execute_result",
          "data": {
            "text/plain": [
              "array([0., 1., 2., 3., 4., 5., 6., 7., 8., 9.])"
            ]
          },
          "metadata": {
            "tags": []
          },
          "execution_count": 24
        }
      ]
    },
    {
      "cell_type": "code",
      "metadata": {
        "colab": {
          "base_uri": "https://localhost:8080/"
        },
        "id": "oHjiNQ_5r61-",
        "outputId": "894e1a91-3a33-4ade-8e00-4cbf9030c797"
      },
      "source": [
        "# convert class vectors to binary class matrices (as required by the categorical cross entropy loss)\n",
        "from keras.utils import np_utils\n",
        "print(y_train_CM0[50000])\n",
        "Y_train = np_utils.to_categorical(y_train_CM0, np.unique(y_train_CM0).shape[0])\n",
        "Y_val = np_utils.to_categorical(y_train_CM0_lev2, np.unique(y_train_CM0_lev2).shape[0])\n",
        "Y_test = np_utils.to_categorical(y_test_CM0, np.unique(y_test_CM0).shape[0])\n",
        "print(Y_train[50000])\n",
        "\n",
        "y_for_training=Y_train\n",
        "y_for_validating=Y_val\n",
        "y_for_testing=Y_test\n",
        "y_for_validating_sparse=y_train_CM0_lev2\n",
        "y_for_testing_sparse=y_test_CM0"
      ],
      "execution_count": null,
      "outputs": [
        {
          "output_type": "stream",
          "text": [
            "9.0\n",
            "[0. 0. 0. 0. 0. 0. 0. 0. 0. 1.]\n"
          ],
          "name": "stdout"
        }
      ]
    },
    {
      "cell_type": "code",
      "metadata": {
        "id": "IKoVEDiFk3Zy"
      },
      "source": [
        "#print(X_train_2d.shape)\n",
        "#print(X_train_CM_2d.shape)"
      ],
      "execution_count": null,
      "outputs": []
    },
    {
      "cell_type": "markdown",
      "metadata": {
        "id": "B_vnAOTVdyWo"
      },
      "source": [
        "#### Function to evaluate performance"
      ]
    },
    {
      "cell_type": "code",
      "metadata": {
        "id": "tjNhmhY87T0h"
      },
      "source": [
        "def plot_my_confusion_matrix(cm, classes,\n",
        "                        title='Confusion matrix',\n",
        "                        cmap=plt.cm.Blues):\n",
        "    \"\"\"\n",
        "    This function prints and plots the confusion matrix.\n",
        "    \"\"\"\n",
        "    fig,ax=plt.subplots(1,figsize=(12,8))\n",
        "    plt.imshow(cm, interpolation='nearest', cmap=cmap)\n",
        "    plt.title(title)\n",
        "    plt.colorbar()\n",
        "    tick_marks = np.arange(len(classes))\n",
        "    plt.xticks(tick_marks, classes, rotation=45)\n",
        "    plt.yticks(tick_marks, classes)\n",
        "\n",
        "    thresh = cm.max() / 2.\n",
        "    for i, j in itertools.product(range(cm.shape[0]), range(cm.shape[1])):\n",
        "        plt.text(j, i, cm[i, j],\n",
        "            horizontalalignment=\"center\",\n",
        "            color=\"white\" if cm[i, j] > thresh else \"black\")\n",
        "\n",
        "    plt.tight_layout()\n",
        "    plt.ylabel('True label')\n",
        "    plt.xlabel('Predicted label')\n",
        "\n",
        "def eval_model(y_test0,y_pred,classes,model_name):\n",
        "  df_metrics_w=pd.DataFrame(index=['f1_macro','G_mean_macro','Balanced accuracy','Imbalanced accuracy'])\n",
        "  f1_macro = f1_score(y_test0, y_pred, average='macro')\n",
        "  G_mean_macro = geometric_mean_score(y_test0, y_pred, average='macro', sample_weight=None)\n",
        "  Bal_acc = balanced_accuracy_score(y_test0, y_pred, sample_weight=None, adjusted=False)\n",
        "  Imbal_acc = accuracy_score(y_test0, y_pred)\n",
        "\n",
        "  list_of_metrics=[f1_macro,G_mean_macro,Bal_acc,Imbal_acc]\n",
        "  df_metrics_w[\"NN_All_small\"] = list_of_metrics   \n",
        "  cm = confusion_matrix(y_test0, y_pred,normalize='true')\n",
        "  cm = np.round(cm, 2)\n",
        "  plot_my_confusion_matrix(cm, classes,cmap=plt.cm.Blues)\n",
        "  #print('Balanced Accuracy: %.3f' % Bal_acc)\n",
        "  #print('f1_macro: %.3f' % f1_macro)\n",
        "  print(df_metrics_w)\n",
        "  print(\" \")\n",
        "  report = sklm.classification_report(y_test0,y_pred,target_names=classes,output_dict=True)\n",
        "  df_report = pd.DataFrame(report).transpose()\n",
        "  print(df_report)\n",
        "  print(\" \")\n",
        "  df_metrics_w.to_csv(model_name+'_metrics.csv')\n",
        "  files.download(model_name+'_metrics.csv')\n",
        "  df_report.to_csv(model_name+'_report.csv')\n",
        "  files.download(model_name+'_report.csv')\n",
        "\n",
        "  files.download(model_name+'.h5') #\"birds.h5\""
      ],
      "execution_count": null,
      "outputs": []
    },
    {
      "cell_type": "markdown",
      "metadata": {
        "id": "kGgXpUJ3hQtd"
      },
      "source": [
        "# Compile, fit and test the model for the 10 classes\n",
        "Defining datasets: Since labels are the same for PolSAR or for Change matrix, we can use the same arrays in both cases"
      ]
    },
    {
      "cell_type": "code",
      "metadata": {
        "id": "_UdmlQoist2K"
      },
      "source": [
        "#optimizer1 = tf.keras.optimizers.Adam(lr=1e-3) # try also 3e-6\n",
        "#optimizer2 = tf.keras.optimizers.Adam(lr=1e-4) # try also 3e-6\n",
        "#optimizer3 = tf.keras.optimizers.SGD(lr=1e-3) # try also 3e-6\n",
        "#optimizer4 = tf.keras.optimizers.SGD(lr=1e-4) # try also 3e-6\n",
        "optimizer5 = tf.keras.optimizers.Nadam(lr=5e-4) # try also 3e-6\n",
        "#optimizers_list=[optimizer1,optimizer2,optimizer3,optimizer4]\n",
        "#model_name_list=['CM_Adam_1e_3','CM_Adam_1e_4','CM_SGD_1e_3','CM_SGD_1e_4']\n",
        "\n",
        "optimizers_list=[optimizer5] # use Nadam optimizers. The other a commented, since they were tested to compare performances.\n"
      ],
      "execution_count": null,
      "outputs": []
    },
    {
      "cell_type": "code",
      "metadata": {
        "id": "51VB5msDs3zK"
      },
      "source": [
        "Lr_call = tf.keras.callbacks.LearningRateScheduler(scheduler)"
      ],
      "execution_count": null,
      "outputs": []
    },
    {
      "cell_type": "code",
      "metadata": {
        "id": "-bw2p6IuhUNY"
      },
      "source": [
        "classes = ['Barley', 'Canaryseed', 'Canola', 'Durum Wheat', 'Field Pea', 'Flax', 'Lentil', 'Mixed Pasture', 'Oat', 'Spring Wheat']\n",
        "\n",
        "for i in range(len(optimizers_list)):\n",
        "  save_model_name= model_name_list[i]\n",
        "  metrics_mine=My_Metrics(X_for_validating,y_for_validating_sparse,save_model_name=save_model_name)  # Pass sparse ground truth, not categorical\n",
        "  model=model_3_512(in_tensor = X_for_training, Num_classes = 10, name_in_lay = name_in_lay) # in_tensor just to geht the input shape\n",
        "  dot_img_file = '/content/model_1.png'\n",
        "\n",
        "  optimizer = optimizers_list[i]\n",
        "  model.compile(optimizer = optimizer,\n",
        "                loss = ncce,\n",
        "                #tf.keras.losses.SparseCategoricalCrossentropy(),#'categorical_crossentropy' is for one hot encoded labels, # , #adam: adaptive moment estimation\n",
        "                metrics=['accuracy'])\n",
        "\n",
        "  metrics_mine.on_train_begin()\n",
        "  history = model.fit(x=X_for_training, y=y_for_training, \n",
        "                      epochs = 20, batch_size = 32,\n",
        "                      validation_data=(X_for_validating,y_for_validating),\n",
        "                      verbose=True, \n",
        "                      #callbacks=[metrics_mine],\n",
        "                      callbacks=[metrics_mine],#,Lr_call],\n",
        "                      #class_weight=class_weight_dict,\n",
        "                      sample_weight = sample_weight #sample_weight#sample_weight_small#sample_weight_val \n",
        "  )\n",
        "  model_CS = load_model(save_model_name+'.h5', custom_objects={'w_categorical_crossentropy': ncce})\n",
        "  y_pred = np.argmax(model_CS.predict(X_for_validating), axis=-1)\n",
        "  eval_model(y_for_validating_sparse,y_pred,classes,save_model_name)  \n"
      ],
      "execution_count": null,
      "outputs": []
    },
    {
      "cell_type": "code",
      "metadata": {
        "id": "L47f-Yy89qHV"
      },
      "source": [
        "# model_test = load_model(save_model_name+'.h5', custom_objects={'w_categorical_crossentropy': ncce})\n",
        "# y_pred1 = np.argmax(model_test.predict(X_for_testing), axis=-1)\n",
        "# eval_model(y_for_testing_sparse,y_pred1,classes,save_model_name)  "
      ],
      "execution_count": null,
      "outputs": []
    },
    {
      "cell_type": "markdown",
      "metadata": {
        "id": "VpjiRxw6ELKG"
      },
      "source": [
        "# Compile, fit and test the model for the 6 classes (grouping cereal crops in a single class)"
      ]
    },
    {
      "cell_type": "code",
      "metadata": {
        "id": "rk-tPHj_-HvC"
      },
      "source": [
        "# y_train0 = y_train_CM0 # enable for CM\n",
        "# y_test0 = y_test_CM0\n",
        "# y_val0 = y_train_CM0_lev2"
      ],
      "execution_count": null,
      "outputs": []
    },
    {
      "cell_type": "code",
      "metadata": {
        "id": "3J7kfdjL9z5_"
      },
      "source": [
        "# Re-number the class names to group the cereal crops in a class \n",
        "y_train_red=y_train0.copy() \n",
        "y_train_red=np.where(y_train0==0,0,y_train_red) # Barley\n",
        "y_train_red=np.where(y_train0==1,0,y_train_red) # Canaray seed\n",
        "y_train_red=np.where(y_train0==2,1,y_train_red) # Canola\n",
        "y_train_red=np.where(y_train0==3,0,y_train_red) # Durum wheat\n",
        "y_train_red=np.where(y_train0==4,2,y_train_red) # field Peas \n",
        "y_train_red=np.where(y_train0==5,3,y_train_red) # Flax\n",
        "y_train_red=np.where(y_train0==6,4,y_train_red) # Lentil\n",
        "y_train_red=np.where(y_train0==7,5,y_train_red) # Mixed Pasture\n",
        "y_train_red=np.where(y_train0==8,0,y_train_red) # Oat\n",
        "y_train_red=np.where(y_train0==9,0,y_train_red) # spring wheat"
      ],
      "execution_count": null,
      "outputs": []
    },
    {
      "cell_type": "code",
      "metadata": {
        "id": "SaZ3WPYsa64u"
      },
      "source": [
        "y_test_red=y_test0.copy() \n",
        "y_test_red=np.where(y_test0==0,0,y_test_red) # Barley\n",
        "y_test_red=np.where(y_test0==1,0,y_test_red) # Canaray seed\n",
        "y_test_red=np.where(y_test0==2,1,y_test_red) # Canola\n",
        "y_test_red=np.where(y_test0==3,0,y_test_red) # Durum wheat\n",
        "y_test_red=np.where(y_test0==4,2,y_test_red) # field Peas \n",
        "y_test_red=np.where(y_test0==5,3,y_test_red) # Flax\n",
        "y_test_red=np.where(y_test0==6,4,y_test_red) # Lentil\n",
        "y_test_red=np.where(y_test0==7,5,y_test_red) # Mixed Pasture\n",
        "y_test_red=np.where(y_test0==8,0,y_test_red) # Oat\n",
        "y_test_red=np.where(y_test0==9,0,y_test_red) # spring wheat"
      ],
      "execution_count": null,
      "outputs": []
    },
    {
      "cell_type": "code",
      "metadata": {
        "id": "5W4zgSiRFIbU"
      },
      "source": [
        "y_val0 = y_train0_lev2\n",
        "y_val_red=y_val0.copy() \n",
        "y_val_red=np.where(y_val0==0,0,y_val_red) # Barley\n",
        "y_val_red=np.where(y_val0==1,0,y_val_red) # Canaray seed\n",
        "y_val_red=np.where(y_val0==2,1,y_val_red) # Canola\n",
        "y_val_red=np.where(y_val0==3,0,y_val_red) # Durum wheat\n",
        "y_val_red=np.where(y_val0==4,2,y_val_red) # field Peas \n",
        "y_val_red=np.where(y_val0==5,3,y_val_red) # Flax\n",
        "y_val_red=np.where(y_val0==6,4,y_val_red) # Lentil\n",
        "y_val_red=np.where(y_val0==7,5,y_val_red) # Mixed Pasture\n",
        "y_val_red=np.where(y_val0==8,0,y_val_red) # Oat\n",
        "y_val_red=np.where(y_val0==9,0,y_val_red) # spring wheat"
      ],
      "execution_count": null,
      "outputs": []
    },
    {
      "cell_type": "code",
      "metadata": {
        "colab": {
          "base_uri": "https://localhost:8080/"
        },
        "id": "JdcTIPYiGBS6",
        "outputId": "c9645ff3-4ce0-4f35-aabd-8a41e096372a"
      },
      "source": [
        "# convert class vectors to binary class matrices\n",
        "print(y_test_red[0])\n",
        "Y_train_red = np_utils.to_categorical(y_train_red, np.unique(y_train_red).shape[0])\n",
        "Y_test_red = np_utils.to_categorical(y_test_red, np.unique(y_test_red).shape[0])\n",
        "Y_val_red = np_utils.to_categorical(y_val_red, np.unique(y_val_red).shape[0])\n",
        "print(Y_test_red[0])"
      ],
      "execution_count": null,
      "outputs": [
        {
          "output_type": "stream",
          "text": [
            "4.0\n",
            "[0. 0. 0. 0. 1. 0.]\n"
          ],
          "name": "stdout"
        }
      ]
    },
    {
      "cell_type": "code",
      "metadata": {
        "colab": {
          "base_uri": "https://localhost:8080/"
        },
        "id": "sA08VrKORN00",
        "outputId": "57c7faf8-5671-4578-aa0b-3e9a9115b3d5"
      },
      "source": [
        "print(Counter(y_train_red))"
      ],
      "execution_count": null,
      "outputs": [
        {
          "output_type": "stream",
          "text": [
            "Counter({0.0: 543117, 1.0: 260715, 2.0: 155104, 5.0: 94766, 3.0: 67502, 4.0: 57005})\n"
          ],
          "name": "stdout"
        }
      ]
    },
    {
      "cell_type": "code",
      "metadata": {
        "id": "Lmmnnf3-GnED"
      },
      "source": [
        "class_weights_red = class_weight.compute_class_weight('balanced',\n",
        "                                                 np.unique(y_train_red),\n",
        "                                                 y_train_red)\n",
        "class_weight_dict_red = dict(enumerate(class_weights_red/class_weights_red.max())) \n",
        "# for test\n",
        "# sample_weight_test_red=np.zeros(y_test_red.shape)\n",
        "# for r in np.unique(y_test_red):\n",
        "#   sample_weight_test=np.where(y_test_red==r,class_weight_dict_red[r],sample_weight_test_red)\n",
        "\n",
        "# Create an array as big as the training samples.\n",
        "# To each sample assign a weight depending on its class weight\n",
        "sample_weight_red=np.zeros(y_train_red.shape) \n",
        "# fill the array with a sample weight equal to the class weight\n",
        "for r in np.unique(y_train_red):\n",
        "  sample_weight_red=np.where(y_train_red==r,class_weight_dict_red[r],sample_weight_red) \n",
        "print(np.unique(sample_weight_red))\n",
        "print(sample_weight_red.shape)"
      ],
      "execution_count": null,
      "outputs": []
    },
    {
      "cell_type": "code",
      "metadata": {
        "id": "pmuRbII-SyNY"
      },
      "source": [
        "w_array_red = np.ones((6,6))\n",
        "for i in range(6):\n",
        "  w_array_red[:,i]=class_weight_dict_red[i]\n",
        "for i in range(6):\n",
        "  w_array_red[i,i]=1\n",
        "w_array_red"
      ],
      "execution_count": null,
      "outputs": []
    },
    {
      "cell_type": "code",
      "metadata": {
        "id": "5i0Zg-VOQ9MV"
      },
      "source": [
        "ncce_red = partial(w_categorical_crossentropy, weights=w_array_red)\n",
        "ncce_red.__name__ ='w_categorical_crossentropy_red'"
      ],
      "execution_count": null,
      "outputs": []
    },
    {
      "cell_type": "code",
      "metadata": {
        "id": "Rc7YUTZqzF1e"
      },
      "source": [
        "# Enable for PolSAR input data\n",
        "#X_for_training=X_train_2d[:5000]\n",
        "#X_for_testing=X_test_2d[:5000]\n",
        "#X_for_validating="
      ],
      "execution_count": null,
      "outputs": []
    },
    {
      "cell_type": "code",
      "metadata": {
        "id": "th3hy5sPzIVT"
      },
      "source": [
        "# Enable for change matrix input data\n",
        "# X_for_training=X_train_CM_2d\n",
        "# X_for_testing=X_test_CM_2d\n",
        "#X_for_validating="
      ],
      "execution_count": null,
      "outputs": []
    },
    {
      "cell_type": "code",
      "metadata": {
        "id": "auD2llg5TMc3"
      },
      "source": [
        "y_for_training=Y_train_red\n",
        "y_for_validating=Y_val_red\n",
        "y_for_testing=Y_test_red\n",
        "y_for_validating_sparse=y_val_red\n",
        "y_for_testing_sparse=y_test_red"
      ],
      "execution_count": null,
      "outputs": []
    },
    {
      "cell_type": "code",
      "metadata": {
        "id": "1v0rcfR2f9dJ"
      },
      "source": [
        "#model_name_list_red=['PolSAR_red_Adam1','PolSAR_red_SGD1','PolSAR_red_Nadam1']\n",
        "model_name_list_red=['PolSAR_red_V10_Nadam']"
      ],
      "execution_count": null,
      "outputs": []
    },
    {
      "cell_type": "code",
      "metadata": {
        "id": "t4p1IskccdGC"
      },
      "source": [
        "classes_red = ['Cereals', 'Canola', 'Field Pea', 'Flax', 'Lentil', 'Mixed Pasture']\n",
        "for i in range(len(optimizers_list)):\n",
        "  save_model_name= model_name_list_red[i]\n",
        "  metrics_mine=My_Metrics(X_for_validating,y_for_validating_sparse,save_model_name=save_model_name)  # Pass sparse ground truth, not categorical\n",
        "  model_reduced=model_3_512(in_tensor = X_for_training, Num_classes = 6, name_in_lay = name_in_lay)\n",
        "  dot_img_file = '/content/model_1.png'\n",
        "  #tf.keras.utils.plot_model(model_reduced, to_file=dot_img_file, show_shapes=True) \n",
        "  optimizer = optimizers_list[i]\n",
        "  model_reduced.compile(optimizer = optimizer,\n",
        "                loss = ncce_red,\n",
        "                #tf.keras.losses.SparseCategoricalCrossentropy(),#'categorical_crossentropy' is for one hot encoded labels, # , #adam: adaptive moment estimation\n",
        "                metrics=['accuracy'])\n",
        "\n",
        "  metrics_mine.on_train_begin()\n",
        "  history = model_reduced.fit(x=X_for_training, y=y_for_training, \n",
        "                      epochs = 20, batch_size = 32,\n",
        "                      validation_data=(X_for_validating,y_for_validating),\n",
        "                      verbose=True, \n",
        "                      #callbacks=[metrics_mine],\n",
        "                      callbacks=[metrics_mine,Lr_call],\n",
        "                      #class_weight=class_weight_dict,\n",
        "                      sample_weight = sample_weight_red #sample_weight#sample_weight_small#sample_weight_val \n",
        "  )\n",
        "  model_CS = load_model(save_model_name+'.h5', custom_objects={'w_categorical_crossentropy_red': ncce_red})\n",
        "  y_pred = np.argmax(model_CS.predict(X_for_validating), axis=-1)\n",
        "  eval_model(y_for_validating_sparse,y_pred,classes_red,save_model_name)  \n"
      ],
      "execution_count": null,
      "outputs": []
    }
  ]
}