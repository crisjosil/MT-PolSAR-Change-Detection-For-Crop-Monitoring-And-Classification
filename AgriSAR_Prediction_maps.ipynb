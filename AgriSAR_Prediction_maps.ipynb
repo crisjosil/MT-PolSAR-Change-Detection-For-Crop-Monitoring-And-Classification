{
  "nbformat": 4,
  "nbformat_minor": 0,
  "metadata": {
    "colab": {
      "name": "AgriSAR_Prediction_maps.ipynb",
      "provenance": [],
      "collapsed_sections": [],
      "authorship_tag": "ABX9TyM044QuesyOgshcxMAJSF/B",
      "include_colab_link": true
    },
    "kernelspec": {
      "name": "python3",
      "display_name": "Python 3"
    }
  },
  "cells": [
    {
      "cell_type": "markdown",
      "metadata": {
        "id": "view-in-github",
        "colab_type": "text"
      },
      "source": [
        "<a href=\"https://colab.research.google.com/github/crisjosil/MT-PolSAR-Change-Detection-For-Crop-Monitoring-And-Classification/blob/master/AgriSAR_Prediction_maps.ipynb\" target=\"_parent\"><img src=\"https://colab.research.google.com/assets/colab-badge.svg\" alt=\"Open In Colab\"/></a>"
      ]
    },
    {
      "cell_type": "code",
      "metadata": {
        "colab": {
          "base_uri": "https://localhost:8080/"
        },
        "id": "_lohaOL193MR",
        "outputId": "82830dad-bacc-4635-d466-bc1e176a61e4"
      },
      "source": [
        "!pip install fiona\r\n",
        "from google.colab import drive\r\n",
        "drive.mount('/content/drive')"
      ],
      "execution_count": null,
      "outputs": [
        {
          "output_type": "stream",
          "text": [
            "Requirement already satisfied: fiona in /usr/local/lib/python3.6/dist-packages (1.8.18)\n",
            "Requirement already satisfied: munch in /usr/local/lib/python3.6/dist-packages (from fiona) (2.5.0)\n",
            "Requirement already satisfied: cligj>=0.5 in /usr/local/lib/python3.6/dist-packages (from fiona) (0.7.1)\n",
            "Requirement already satisfied: click-plugins>=1.0 in /usr/local/lib/python3.6/dist-packages (from fiona) (1.1.1)\n",
            "Requirement already satisfied: six>=1.7 in /usr/local/lib/python3.6/dist-packages (from fiona) (1.15.0)\n",
            "Requirement already satisfied: certifi in /usr/local/lib/python3.6/dist-packages (from fiona) (2020.12.5)\n",
            "Requirement already satisfied: click<8,>=4.0 in /usr/local/lib/python3.6/dist-packages (from fiona) (7.1.2)\n",
            "Requirement already satisfied: attrs>=17 in /usr/local/lib/python3.6/dist-packages (from fiona) (20.3.0)\n",
            "Drive already mounted at /content/drive; to attempt to forcibly remount, call drive.mount(\"/content/drive\", force_remount=True).\n"
          ],
          "name": "stdout"
        }
      ]
    },
    {
      "cell_type": "code",
      "metadata": {
        "colab": {
          "base_uri": "https://localhost:8080/",
          "height": 322
        },
        "id": "8paF8vHB94AE",
        "outputId": "62633c7e-6939-4e69-943e-f3acfbcc334e"
      },
      "source": [
        "# python\r\n",
        "import numpy as np\r\n",
        "import pandas as pd\r\n",
        "import time\r\n",
        "import matplotlib.pyplot as plt \r\n",
        "import matplotlib\r\n",
        "import matplotlib.patches as mpatches\r\n",
        "from collections import Counter\r\n",
        "import fiona\r\n",
        "import os\r\n",
        "from itertools import product\r\n",
        "from __future__ import print_function\r\n",
        "from functools import partial\r\n",
        "import pandas as pd\r\n",
        "import itertools\r\n",
        "from google.colab import files\r\n",
        "from pickle import dump\r\n",
        "from pickle import load\r\n",
        "#sklearn\r\n",
        "from sklearn import preprocessing\r\n",
        "from sklearn.preprocessing import StandardScaler\r\n",
        "from sklearn.ensemble import RandomForestClassifier\r\n",
        "from sklearn.metrics import confusion_matrix\r\n",
        "from sklearn.metrics import accuracy_score\r\n",
        "from sklearn.metrics import f1_score\r\n",
        "from sklearn.metrics import balanced_accuracy_score\r\n",
        "from imblearn.metrics import geometric_mean_score\r\n",
        "from sklearn.metrics import plot_confusion_matrix\r\n",
        "from sklearn.model_selection import train_test_split\r\n",
        "from sklearn.model_selection import cross_val_score\r\n",
        "from sklearn.model_selection import KFold\r\n",
        "from sklearn.preprocessing import MinMaxScaler\r\n",
        "from sklearn.preprocessing import StandardScaler    \r\n",
        "from sklearn.preprocessing import Normalizer \r\n",
        "from sklearn.metrics import classification_report\r\n",
        "from sklearn.model_selection import GridSearchCV\r\n",
        "from sklearn.utils import class_weight\r\n",
        "\r\n",
        "# imblearn\r\n",
        "from imblearn.ensemble import BalancedRandomForestClassifier\r\n",
        "from imblearn.metrics import classification_report_imbalanced\r\n",
        "\r\n",
        "# Keras\r\n",
        "import keras\r\n",
        "from keras.models import Sequential\r\n",
        "from keras.layers import Dense,Activation,Dropout\r\n",
        "from keras.callbacks import EarlyStopping\r\n",
        "from keras.callbacks import ModelCheckpoint\r\n",
        "from keras.models import load_model\r\n",
        "from keras.wrappers.scikit_learn import KerasClassifier\r\n",
        "from keras.utils import np_utils\r\n",
        "import keras.backend as K\r\n",
        "# Tensor flow\r\n",
        "import tensorflow as tf\r\n",
        "import tensorflow_addons as tfa\r\n",
        "print(tf.__version__)\r\n",
        "tf.test.gpu_device_name()"
      ],
      "execution_count": null,
      "outputs": [
        {
          "output_type": "stream",
          "text": [
            "/usr/local/lib/python3.6/dist-packages/sklearn/externals/six.py:31: FutureWarning: The module is deprecated in version 0.21 and will be removed in version 0.23 since we've dropped support for Python 2.7. Please rely on the official version of six (https://pypi.org/project/six/).\n",
            "  \"(https://pypi.org/project/six/).\", FutureWarning)\n",
            "/usr/local/lib/python3.6/dist-packages/sklearn/utils/deprecation.py:144: FutureWarning: The sklearn.neighbors.base module is  deprecated in version 0.22 and will be removed in version 0.24. The corresponding classes / functions should instead be imported from sklearn.neighbors. Anything that cannot be imported from sklearn.neighbors is now part of the private API.\n",
            "  warnings.warn(message, FutureWarning)\n",
            "/usr/local/lib/python3.6/dist-packages/sklearn/utils/deprecation.py:144: FutureWarning: The sklearn.metrics.classification module is  deprecated in version 0.22 and will be removed in version 0.24. The corresponding classes / functions should instead be imported from sklearn.metrics. Anything that cannot be imported from sklearn.metrics is now part of the private API.\n",
            "  warnings.warn(message, FutureWarning)\n",
            "/usr/local/lib/python3.6/dist-packages/sklearn/utils/deprecation.py:144: FutureWarning: The sklearn.ensemble.bagging module is  deprecated in version 0.22 and will be removed in version 0.24. The corresponding classes / functions should instead be imported from sklearn.ensemble. Anything that cannot be imported from sklearn.ensemble is now part of the private API.\n",
            "  warnings.warn(message, FutureWarning)\n",
            "/usr/local/lib/python3.6/dist-packages/sklearn/utils/deprecation.py:144: FutureWarning: The sklearn.ensemble.base module is  deprecated in version 0.22 and will be removed in version 0.24. The corresponding classes / functions should instead be imported from sklearn.ensemble. Anything that cannot be imported from sklearn.ensemble is now part of the private API.\n",
            "  warnings.warn(message, FutureWarning)\n",
            "/usr/local/lib/python3.6/dist-packages/sklearn/utils/deprecation.py:144: FutureWarning: The sklearn.ensemble.forest module is  deprecated in version 0.22 and will be removed in version 0.24. The corresponding classes / functions should instead be imported from sklearn.ensemble. Anything that cannot be imported from sklearn.ensemble is now part of the private API.\n",
            "  warnings.warn(message, FutureWarning)\n",
            "/usr/local/lib/python3.6/dist-packages/sklearn/externals/joblib/__init__.py:15: FutureWarning: sklearn.externals.joblib is deprecated in 0.21 and will be removed in 0.23. Please import this functionality directly from joblib, which can be installed with: pip install joblib. If this warning is raised when loading pickled models, you may need to re-serialize those models with scikit-learn 0.21+.\n",
            "  warnings.warn(msg, category=FutureWarning)\n"
          ],
          "name": "stderr"
        },
        {
          "output_type": "stream",
          "text": [
            "2.4.1\n"
          ],
          "name": "stdout"
        },
        {
          "output_type": "execute_result",
          "data": {
            "application/vnd.google.colaboratory.intrinsic+json": {
              "type": "string"
            },
            "text/plain": [
              "''"
            ]
          },
          "metadata": {
            "tags": []
          },
          "execution_count": 2
        }
      ]
    },
    {
      "cell_type": "code",
      "metadata": {
        "colab": {
          "base_uri": "https://localhost:8080/"
        },
        "id": "uz3Z_WZWb2BQ",
        "outputId": "829ccafa-b9fb-4b2d-aba9-d504d4983912"
      },
      "source": [
        "print(tf.__version__)"
      ],
      "execution_count": null,
      "outputs": [
        {
          "output_type": "stream",
          "text": [
            "2.4.1\n"
          ],
          "name": "stdout"
        }
      ]
    },
    {
      "cell_type": "code",
      "metadata": {
        "id": "74wl93X1-MWF"
      },
      "source": [
        "def plot_map_with_legend(lab,values,cmap,crop_typ):       \r\n",
        "    plt.figure(figsize=(12,9))\r\n",
        "    im = plt.imshow(lab, cmap=cmap,interpolation='none')\r\n",
        "    # get the colors of the values, according to the \r\n",
        "    # colormap used by imshow\r\n",
        "    colors = [ im.cmap(im.norm(value)) for value in values]\r\n",
        "    # create a patch (proxy artist) for every color \r\n",
        "    patches = [ mpatches.Patch(color=colors[i], label=crop_typ[i] ) for i in range(len(values)) ]\r\n",
        "    # put those patched as legend-handles into the legend\r\n",
        "    plt.legend(handles=patches, bbox_to_anchor=(0.85, 1.01), loc=2, borderaxespad=0.)\r\n",
        "    plt.grid(True)\r\n",
        "    plt.show()\r\n",
        "    plt.axis('off')\r\n",
        "    plt.tight_layout()\r\n",
        "    \r\n",
        "def NN_predict_cube(cube_to_predict_1d,model,labels,title):   \r\n",
        "    y_pred_cube_red = np.argmax(model.predict(cube_to_predict_1d), axis=-1)\r\n",
        "    y_pred_2d_red = y_pred_cube_red.reshape(labels.shape[0],labels.shape[1])\r\n",
        "    y_pred_2d_red=np.where(np.isnan(labels),np.nan,y_pred_2d_red)\r\n",
        "    \r\n",
        "    fig,(ax1, ax2)=plt.subplots(nrows=1, ncols=2,sharex=True,sharey=True,figsize=(19,9))\r\n",
        "    fig.suptitle(title)\r\n",
        "    ax1.imshow(labels)\r\n",
        "    ax2.imshow(y_pred_2d_red)\r\n",
        "    ax1.axis('off')\r\n",
        "    ax2.axis('off')\r\n",
        "    plt.tight_layout()\r\n",
        "\r\n",
        "# Custom loss function with costs\r\n",
        "def w_categorical_crossentropy(y_true, y_pred, weights):\r\n",
        "    nb_cl = len(weights)\r\n",
        "    final_mask = K.zeros_like(y_pred[:, 0])\r\n",
        "    y_pred_max = K.max(y_pred, axis=1)\r\n",
        "    y_pred_max = K.expand_dims(y_pred_max, 1)\r\n",
        "    y_pred_max_mat = K.equal(y_pred, y_pred_max)\r\n",
        "    for c_p, c_t in itertools.product(range(nb_cl), range(nb_cl)):\r\n",
        "\r\n",
        "        final_mask += (K.cast(weights[c_t, c_p],K.floatx()) * K.cast(y_pred_max_mat[:, c_p] ,K.floatx())* K.cast(y_true[:, c_t],K.floatx()))\r\n",
        "    return K.categorical_crossentropy(y_pred, y_true) * final_mask"
      ],
      "execution_count": null,
      "outputs": []
    },
    {
      "cell_type": "code",
      "metadata": {
        "id": "VAFGJY_y-J5b"
      },
      "source": [
        "# training labels to create the custom loss funciton and then be able to load the saved model\r\n",
        "root=\"/content/drive/My Drive/Datasets/AgriSAR_Paper2/Final_datasets/CM/V7/\"\r\n",
        "layer_name = \"y_train_with_diag.npy\"\r\n",
        "y_train_CM0=np.load(root + layer_name,  allow_pickle=True)\r\n",
        "\r\n",
        "# Determine weight of each class according to number of samples\r\n",
        "# For train\r\n",
        "class_weights = class_weight.compute_class_weight('balanced',np.unique(y_train_CM0), y_train_CM0)\r\n",
        "class_weight_dict = dict(enumerate(class_weights/class_weights.max())) # normalize the weights to one\r\n",
        "sample_weight=np.zeros(y_train_CM0.shape)\r\n",
        "for r in np.unique(y_train_CM0):\r\n",
        "  sample_weight=np.where(y_train_CM0==r,class_weight_dict[r],sample_weight)\r\n",
        "\r\n",
        "# Array with weights\r\n",
        "w_array = np.ones((10,10))\r\n",
        "for i in range(10):\r\n",
        "  w_array[:,i]=class_weight_dict[i]\r\n",
        "for i in range(10):\r\n",
        "  w_array[i,i]=1\r\n",
        "\r\n",
        "# name the loss function\r\n",
        "ncce = partial(w_categorical_crossentropy, weights=w_array)\r\n",
        "ncce.__name__ ='w_categorical_crossentropy'"
      ],
      "execution_count": null,
      "outputs": []
    },
    {
      "cell_type": "code",
      "metadata": {
        "id": "Knt2uVqoB36u"
      },
      "source": [
        "#Load model\r\n",
        "root=\"/content/drive/My Drive/Datasets/AgriSAR_Paper2/Datacube/\"\r\n",
        "save_model_name = \"CM_diag_V7_Nadam\"\r\n",
        "model_CS = load_model(root + save_model_name+'.h5', custom_objects={'w_categorical_crossentropy': ncce})"
      ],
      "execution_count": null,
      "outputs": []
    },
    {
      "cell_type": "code",
      "metadata": {
        "colab": {
          "base_uri": "https://localhost:8080/"
        },
        "id": "gBtDil9aB50F",
        "outputId": "dcacf6b8-65ad-4a9d-8443-4a7c62e7aecf"
      },
      "source": [
        "layer_name = \"cube_to_predict_scaled.npy\"\r\n",
        "cube_to_predict = np.load(root + layer_name,  allow_pickle=True) \r\n",
        "cube_to_predict.shape"
      ],
      "execution_count": null,
      "outputs": [
        {
          "output_type": "execute_result",
          "data": {
            "text/plain": [
              "(6097142, 147)"
            ]
          },
          "metadata": {
            "tags": []
          },
          "execution_count": 7
        }
      ]
    },
    {
      "cell_type": "code",
      "metadata": {
        "colab": {
          "base_uri": "https://localhost:8080/"
        },
        "id": "ZfSQ66HYIAZY",
        "outputId": "b86b4e1a-6d0b-4a18-86ba-833b03bc3536"
      },
      "source": [
        "# labels\r\n",
        "root=\"/content/drive/My Drive/Datasets/AgriSAR_Paper2/Datacube/\"\r\n",
        "layer_name = \"Labels_corrected.npy\"#\"Areas_asc_FQ2.npy\"\r\n",
        "print(\"loading \"+layer_name)\r\n",
        "Labels=np.load(root+layer_name,  allow_pickle=True)\r\n",
        "crop_types = ['Barley','Canary Seed','Canola','Durum wheat','Field Pea','Flax','Lentil','Mixed pasture','Oat','Spring wheat']\r\n",
        "values = np.arange(0,10,1) \r\n",
        "#cmap = 'jet'\r\n",
        "cmap = matplotlib.colors.LinearSegmentedColormap.from_list(\"\", [\"pink\",\"green\",\"blue\",\"red\",\"darkviolet\",\"yellow\",\"k\",\"darkorange\",\"lime\",'brown'])\r\n",
        "#plot_map_with_legend(Labels,values,cmap,crop_types)"
      ],
      "execution_count": null,
      "outputs": [
        {
          "output_type": "stream",
          "text": [
            "loading Labels_corrected.npy\n"
          ],
          "name": "stdout"
        }
      ]
    },
    {
      "cell_type": "code",
      "metadata": {
        "colab": {
          "base_uri": "https://localhost:8080/"
        },
        "id": "nCbcT62UndL_",
        "outputId": "f6155bd7-c716-47ef-e3fb-acb891c4a4c6"
      },
      "source": [
        "print(\"Reshaping as 2d images ...\")\r\n",
        "cube_to_predict=cube_to_predict.reshape(cube_to_predict.shape[0],7,7,3)\r\n",
        "print(\"Predicting ...\")\r\n",
        "# y_pred_cube = np.argmax(model_CS.predict(cube_to_predict), axis=-1)\r\n",
        "# y_pred_2d = y_pred_cube.reshape(Labels.shape[0],Labels.shape[1])\r\n",
        "# y_pred_2d=np.where(np.isnan(Labels),np.nan,y_pred_2d)\r\n",
        "\r\n",
        "# fig,(ax,ax1) = plt.subplots(nrows=1,ncols=2,sharey=True,figsize=(19,9))\r\n",
        "# ax.axis('off')\r\n",
        "# ax1.axis('off')\r\n",
        "# im = ax.imshow(Labels, cmap=cmap,interpolation='none')\r\n",
        "# im1 = ax1.imshow(y_pred_2d, cmap=cmap,interpolation='none')\r\n",
        "# # get the colors of the values, according to the \r\n",
        "# # colormap used by imshow\r\n",
        "# colors = [ im.cmap(im.norm(value)) for value in values]\r\n",
        "# # create a patch (proxy artist) for every color \r\n",
        "# patches = [ mpatches.Patch(color=colors[i], label=crop_types[i] ) for i in range(len(values)) ]\r\n",
        "# # put those patched as legend-handles into the legend\r\n",
        "# ax.legend(handles=patches, bbox_to_anchor=(0.78, 1), loc=2, borderaxespad=0.)\r\n",
        "# ax1.legend(handles=patches, bbox_to_anchor=(0.78, 1), loc=2, borderaxespad=0.)\r\n",
        "# #plt.grid(True)\r\n",
        "# plt.show()\r\n",
        "# plt.tight_layout()"
      ],
      "execution_count": null,
      "outputs": [
        {
          "output_type": "stream",
          "text": [
            "Reshaping as 2d images ...\n",
            "Predicting ...\n"
          ],
          "name": "stdout"
        }
      ]
    },
    {
      "cell_type": "markdown",
      "metadata": {
        "id": "oDgZQOeraLbn"
      },
      "source": [
        "# Reduced classes"
      ]
    },
    {
      "cell_type": "code",
      "metadata": {
        "id": "vflj84LFuYK9"
      },
      "source": [
        "y_train_red=y_train_CM0.copy() \r\n",
        "y_train_red=np.where(y_train_CM0==0,0,y_train_red) # Barley\r\n",
        "y_train_red=np.where(y_train_CM0==1,0,y_train_red) # Canaray seed\r\n",
        "y_train_red=np.where(y_train_CM0==2,1,y_train_red) # Canola\r\n",
        "y_train_red=np.where(y_train_CM0==3,0,y_train_red) # Durum wheat\r\n",
        "y_train_red=np.where(y_train_CM0==4,2,y_train_red) # field Peas \r\n",
        "y_train_red=np.where(y_train_CM0==5,3,y_train_red) # Flax\r\n",
        "y_train_red=np.where(y_train_CM0==6,4,y_train_red) # Lentil\r\n",
        "y_train_red=np.where(y_train_CM0==7,5,y_train_red) # Mixed Pasture\r\n",
        "y_train_red=np.where(y_train_CM0==8,0,y_train_red) # Oat\r\n",
        "y_train_red=np.where(y_train_CM0==9,0,y_train_red) # spring wheat"
      ],
      "execution_count": null,
      "outputs": []
    },
    {
      "cell_type": "code",
      "metadata": {
        "id": "McwW0CaQvIKJ"
      },
      "source": [
        "Labels_red=Labels.copy() \r\n",
        "Labels_red=np.where(Labels==0,0,Labels_red) # Barley\r\n",
        "Labels_red=np.where(Labels==1,0,Labels_red) # Canaray seed\r\n",
        "Labels_red=np.where(Labels==2,1,Labels_red) # Canola\r\n",
        "Labels_red=np.where(Labels==3,0,Labels_red) # Durum wheat\r\n",
        "Labels_red=np.where(Labels==4,2,Labels_red) # field Peas \r\n",
        "Labels_red=np.where(Labels==5,3,Labels_red) # Flax\r\n",
        "Labels_red=np.where(Labels==6,4,Labels_red) # Lentil\r\n",
        "Labels_red=np.where(Labels==7,5,Labels_red) # Mixed Pasture\r\n",
        "Labels_red=np.where(Labels==8,0,Labels_red) # Oat\r\n",
        "Labels_red=np.where(Labels==9,0,Labels_red) # spring wheat"
      ],
      "execution_count": null,
      "outputs": []
    },
    {
      "cell_type": "code",
      "metadata": {
        "colab": {
          "base_uri": "https://localhost:8080/"
        },
        "id": "xmnNrpkWuftp",
        "outputId": "9b9993c4-27cc-452b-f319-2ff0293ab9d0"
      },
      "source": [
        "# convert class vectors to binary class matrices\r\n",
        "print(y_train_red[0])\r\n",
        "Y_train_red = np_utils.to_categorical(y_train_red, np.unique(y_train_red).shape[0])\r\n",
        "print(Y_train_red[0])\r\n",
        "\r\n",
        "class_weights_red = class_weight.compute_class_weight('balanced',\r\n",
        "                                                 np.unique(y_train_red),\r\n",
        "                                                 y_train_red)\r\n",
        "class_weight_dict_red = dict(enumerate(class_weights_red/class_weights_red.max())) \r\n",
        "# for test\r\n",
        "# sample_weight_test_red=np.zeros(y_test_red.shape)\r\n",
        "# for r in np.unique(y_test_red):\r\n",
        "#   sample_weight_test=np.where(y_test_red==r,class_weight_dict_red[r],sample_weight_test_red)\r\n",
        "\r\n",
        "# Create an array as big as the training samples.\r\n",
        "# To each sample assign a weight depending on its class weight\r\n",
        "sample_weight_red=np.zeros(y_train_red.shape) \r\n",
        "# fill the array with a sample weight equal to the class weight\r\n",
        "for r in np.unique(y_train_red):\r\n",
        "  sample_weight_red=np.where(y_train_red==r,class_weight_dict_red[r],sample_weight_red) \r\n",
        "print(np.unique(sample_weight_red))\r\n",
        "print(sample_weight_red.shape)\r\n",
        "\r\n",
        "w_array_red = np.ones((6,6))\r\n",
        "for i in range(6):\r\n",
        "  w_array_red[:,i]=class_weight_dict_red[i]\r\n",
        "for i in range(6):\r\n",
        "  w_array_red[i,i]=1\r\n",
        "\r\n",
        "ncce_red = partial(w_categorical_crossentropy, weights=w_array_red)\r\n",
        "ncce_red.__name__ ='w_categorical_crossentropy_red'"
      ],
      "execution_count": null,
      "outputs": [
        {
          "output_type": "stream",
          "text": [
            "1.0\n",
            "[0. 1. 0. 0. 0. 0.]\n",
            "[0.10154751 0.18489094 0.33461818 0.44688184 0.7257105  1.        ]\n",
            "(1176829,)\n"
          ],
          "name": "stdout"
        }
      ]
    },
    {
      "cell_type": "code",
      "metadata": {
        "id": "64D5YVUQupPU"
      },
      "source": [
        "classes_red = ['Cereals', 'Canola', 'Field Pea', 'Flax', 'Lentil', 'Mixed Pasture']\r\n",
        "values_red = np.arange(0,6,1) \r\n",
        "cmap_red = matplotlib.colors.LinearSegmentedColormap.from_list(\"\", [\"limegreen\",\"blue\",\"darkviolet\",\"yellow\",\"k\",'darkorange'])#,\"k\",\"\",\"lime\",'brown'"
      ],
      "execution_count": null,
      "outputs": []
    },
    {
      "cell_type": "code",
      "metadata": {
        "id": "1xGlErjMup60"
      },
      "source": [
        "#Load model\r\n",
        "root=\"/content/drive/My Drive/Datasets/AgriSAR_Paper2/Datacube/\"\r\n",
        "save_model_name = \"CM_diag_red_V7_Nadam\"\r\n",
        "model_CS_red = load_model(root + save_model_name+'.h5', custom_objects={'w_categorical_crossentropy_red': ncce_red})"
      ],
      "execution_count": null,
      "outputs": []
    },
    {
      "cell_type": "code",
      "metadata": {
        "id": "17-tomROu45q"
      },
      "source": [
        "y_pred_cube_red = np.argmax(model_CS_red.predict(cube_to_predict), axis=-1)\r\n",
        "y_pred_2d_red = y_pred_cube_red.reshape(Labels.shape[0],Labels.shape[1])\r\n",
        "y_pred_2d_red=np.where(np.isnan(Labels),np.nan,y_pred_2d_red)"
      ],
      "execution_count": null,
      "outputs": []
    },
    {
      "cell_type": "code",
      "metadata": {
        "colab": {
          "base_uri": "https://localhost:8080/",
          "height": 462
        },
        "id": "smwYza6QvDhT",
        "outputId": "f03e6a08-6ad4-471f-ca8d-84c3dc240a4b"
      },
      "source": [
        "fig,(ax,ax1) = plt.subplots(nrows=1,ncols=2,sharey=True,figsize=(19,9))\r\n",
        "ax.axis('off')\r\n",
        "ax1.axis('off')\r\n",
        "im = ax.imshow(Labels_red, cmap=cmap_red,interpolation='none')\r\n",
        "im1 = ax1.imshow(y_pred_2d_red, cmap=cmap_red,interpolation='none')\r\n",
        "# get the colors of the values, according to the \r\n",
        "# colormap used by imshow\r\n",
        "colors = [ im.cmap(im.norm(value)) for value in values_red]\r\n",
        "# create a patch (proxy artist) for every color \r\n",
        "patches = [ mpatches.Patch(color=colors[i], label=classes_red[i] ) for i in range(len(values_red)) ]\r\n",
        "# put those patched as legend-handles into the legend\r\n",
        "ax.legend(handles=patches, bbox_to_anchor=(0.78, 1), loc=2, borderaxespad=0.)\r\n",
        "ax1.legend(handles=patches, bbox_to_anchor=(0.78, 1), loc=2, borderaxespad=0.)\r\n",
        "#plt.grid(True)\r\n",
        "plt.show()\r\n",
        "plt.tight_layout()"
      ],
      "execution_count": null,
      "outputs": [
        {
          "output_type": "display_data",
          "data": {
            "image/png": "[encoded data removed]",
            "text/plain": [
              "<Figure size 1368x648 with 2 Axes>"
            ]
          },
          "metadata": {
            "tags": [],
            "needs_background": "light"
          }
        },
        {
          "output_type": "display_data",
          "data": {
            "text/plain": [
              "<Figure size 432x288 with 0 Axes>"
            ]
          },
          "metadata": {
            "tags": []
          }
        }
      ]
    },
    {
      "cell_type": "code",
      "metadata": {
        "id": "zb5dyJ_N1O7J"
      },
      "source": [
        ""
      ],
      "execution_count": null,
      "outputs": []
    }
  ]
}